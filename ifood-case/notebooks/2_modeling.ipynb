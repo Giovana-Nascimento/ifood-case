{
  "cells": [
    {
      "cell_type": "markdown",
      "metadata": {
        "id": "K6b4-_eRId8p"
      },
      "source": [
        "> **Apenas configurações iniciais para configuirar o ambiente**"
      ]
    },
    {
      "cell_type": "code",
      "execution_count": 5,
      "metadata": {
        "colab": {
          "base_uri": "https://localhost:8080/"
        },
        "collapsed": true,
        "id": "4dodvEdGIUlr",
        "outputId": "78d83d5d-1725-4b0a-e2ad-a378aaae285d"
      },
      "outputs": [
        {
          "name": "stdout",
          "output_type": "stream",
          "text": [
            "\r0% [Working]\r            \rHit:1 http://archive.ubuntu.com/ubuntu jammy InRelease\n",
            "\r0% [Connecting to security.ubuntu.com (185.125.190.81)] [Connected to cloud.r-p\r                                                                               \rGet:2 http://archive.ubuntu.com/ubuntu jammy-updates InRelease [128 kB]\n",
            "Get:3 https://cloud.r-project.org/bin/linux/ubuntu jammy-cran40/ InRelease [3,632 B]\n",
            "Hit:4 https://developer.download.nvidia.com/compute/cuda/repos/ubuntu2204/x86_64  InRelease\n",
            "Get:5 http://security.ubuntu.com/ubuntu jammy-security InRelease [129 kB]\n",
            "Get:6 https://r2u.stat.illinois.edu/ubuntu jammy InRelease [6,555 B]\n",
            "Get:7 http://archive.ubuntu.com/ubuntu jammy-backports InRelease [127 kB]\n",
            "Hit:8 https://ppa.launchpadcontent.net/deadsnakes/ppa/ubuntu jammy InRelease\n",
            "Hit:9 https://ppa.launchpadcontent.net/graphics-drivers/ppa/ubuntu jammy InRelease\n",
            "Hit:10 https://ppa.launchpadcontent.net/ubuntugis/ppa/ubuntu jammy InRelease\n",
            "Get:11 http://archive.ubuntu.com/ubuntu jammy-updates/restricted amd64 Packages [4,436 kB]\n",
            "Get:12 http://archive.ubuntu.com/ubuntu jammy-updates/main amd64 Packages [3,211 kB]\n",
            "Get:13 https://r2u.stat.illinois.edu/ubuntu jammy/main amd64 Packages [2,715 kB]\n",
            "Get:14 http://archive.ubuntu.com/ubuntu jammy-updates/universe amd64 Packages [1,545 kB]\n",
            "Get:15 https://r2u.stat.illinois.edu/ubuntu jammy/main all Packages [8,909 kB]\n",
            "Get:16 http://archive.ubuntu.com/ubuntu jammy-backports/main amd64 Packages [83.2 kB]\n",
            "Get:17 http://security.ubuntu.com/ubuntu jammy-security/restricted amd64 Packages [4,274 kB]\n",
            "Get:18 http://security.ubuntu.com/ubuntu jammy-security/main amd64 Packages [2,897 kB]\n",
            "Get:19 http://security.ubuntu.com/ubuntu jammy-security/universe amd64 Packages [1,245 kB]\n",
            "Get:20 http://security.ubuntu.com/ubuntu jammy-security/multiverse amd64 Packages [47.7 kB]\n",
            "Fetched 29.8 MB in 7s (4,150 kB/s)\n",
            "Reading package lists... Done\n",
            "W: Skipping acquire of configured file 'main/source/Sources' as repository 'https://r2u.stat.illinois.edu/ubuntu jammy InRelease' does not seem to provide it (sources.list entry misspelt?)\n"
          ]
        }
      ],
      "source": [
        "!apt-get update\n",
        "!apt-get install openjdk-11-jdk-headless -qq > /dev/null\n",
        "!wget -q https://downloads.apache.org/spark/spark-3.4.1/spark-3.4.1-bin-hadoop3.tgz\n",
        "!tar xf spark-3.4.1-bin-hadoop3.tgz\n",
        "!pip install -q findspark\n",
        "\n",
        "import os\n",
        "os.environ[\"JAVA_HOME\"] = \"/usr/lib/jvm/java-11-openjdk-amd64\"\n",
        "os.environ[\"SPARK_HOME\"] = \"/content/spark-3.4.1-bin-hadoop3\"\n",
        "\n",
        "import findspark\n",
        "findspark.init()\n"
      ]
    },
    {
      "cell_type": "code",
      "execution_count": 6,
      "metadata": {
        "id": "VqMlIS1-IbKw"
      },
      "outputs": [],
      "source": [
        "import findspark\n",
        "findspark.init()\n",
        "\n",
        "from pyspark.sql import SparkSession\n",
        "\n",
        "spark = SparkSession.builder \\\n",
        "    .appName(\"Colab com PySpark\") \\\n",
        "    .getOrCreate()\n"
      ]
    },
    {
      "cell_type": "code",
      "execution_count": 141,
      "metadata": {
        "id": "1FgAF-7XIdQr"
      },
      "outputs": [],
      "source": [
        "# Criando pasta para os arquivos\n",
        "!mkdir -p /ifood-case/data/raw/\n",
        "\n",
        "!mkdir -p /ifood-case/data/processed/"
      ]
    },
    {
      "cell_type": "markdown",
      "metadata": {
        "id": "bkwXxYnwlBVo"
      },
      "source": [
        "# Análise Exploratória (EDA)"
      ]
    },
    {
      "cell_type": "code",
      "execution_count": 147,
      "metadata": {
        "colab": {
          "base_uri": "https://localhost:8080/"
        },
        "id": "vyyW23BzqTyX",
        "outputId": "aa2d78a0-0032-416b-846f-1c5e46197771"
      },
      "outputs": [
        {
          "name": "stdout",
          "output_type": "stream",
          "text": [
            "total 4\n",
            "drwxr-xr-x 2 root root 4096 May  7 16:51 df_final_analytics.parquet\n"
          ]
        }
      ],
      "source": [
        "!ls -l ifood-case/data/processed/\n"
      ]
    },
    {
      "cell_type": "code",
      "execution_count": 150,
      "metadata": {
        "colab": {
          "base_uri": "https://localhost:8080/"
        },
        "id": "drgCIsBGqaih",
        "outputId": "c3fd1567-0966-40e4-b6d5-358b15c030da"
      },
      "outputs": [
        {
          "name": "stdout",
          "output_type": "stream",
          "text": [
            "+--------------------+--------------------+------------------+---------------------+------------------+------------------+-----------------+------------------+----------------------+----------------------+--------------+------------------+--------------+--------------------+-----------+-------------+--------------+------------------+----+-----------------+-----------------------+\n",
            "|          account_id|offer_received_count|offer_viewed_count|offer_completed_count|         view_rate|   completion_rate|transaction_count|total_amount_spent|avg_transaction_amount|std_transaction_amount|completed_bogo|completed_discount|completed_info|preferred_offer_type|channel_web|channel_email|channel_mobile| avg_channel_count| age|credit_card_limit|days_since_registration|\n",
            "+--------------------+--------------------+------------------+---------------------+------------------+------------------+-----------------+------------------+----------------------+----------------------+--------------+------------------+--------------+--------------------+-----------+-------------+--------------+------------------+----+-----------------+-----------------------+\n",
            "|c05652fa9d2c4fac9...|                   6|                 4|                    1|0.6666666666666666|              0.25|                7|             27.23|                  3.89|     2.272964290671252|             1|                 0|             0|                bogo|          1|            1|             1|3.1666666666666665|  62|          73000.0|                   2657|\n",
            "|9da3f2339b244229a...|                   5|                 2|                    1|               0.4|               0.5|                4|             18.87|                4.7175|     2.487105077528223|             0|                 1|             0|            discount|          1|            1|             1|               3.0|  49|          36000.0|                   2675|\n",
            "|fc58860830e648c9b...|                   4|                 2|                    0|               0.5|               0.0|                4|              10.2|                  2.55|    1.5988954520751715|          null|              null|          null|                null|          1|            1|             1|              3.25|  79|          64000.0|                   2520|\n",
            "|f608dc84f5f744a88...|                   5|                 3|                    3|               0.6|               1.0|                4|            101.64|                 25.41|      6.31879207865976|             2|                 1|             0|                bogo|          1|            1|             1|               3.2|  68|         115000.0|                   2927|\n",
            "|25540a042d7d4aabb...|                   3|                 2|                    1|0.6666666666666666|               0.5|                4|112.58000000000001|    28.145000000000003|     6.790294544421471|             1|                 0|             0|                bogo|          1|            1|             1|3.3333333333333335|  71|         108000.0|                   2715|\n",
            "|f3acf14291c040a5b...|                   4|                 3|                    3|              0.75|               1.0|                5|             94.34|    18.868000000000002|     8.931269226711287|             1|                 2|             0|            discount|          1|            1|             1|              2.75|  52|          68000.0|                   3295|\n",
            "|c029ebbd5e584674b...|                   5|                 4|                    0|               0.8|               0.0|                3|             12.06|    4.0200000000000005|    2.9461839725312466|          null|              null|          null|                null|          1|            1|             1|               3.4|null|             null|                   null|\n",
            "|05ea8d8a95eb4b209...|                   4|                 1|                    3|              0.25|               3.0|                5|            133.53|                26.706|     7.929320904087561|             2|                 1|             0|                bogo|          1|            1|             1|              3.25|  62|         111000.0|                   3473|\n",
            "|5dca7efd64aa40e9a...|                   4|                 2|                    0|               0.5|               0.0|                4|             13.06|                 3.265|    1.8834277262480765|          null|              null|          null|                null|          1|            1|             1|              3.25|null|             null|                   null|\n",
            "|559943eeb754463e8...|                   2|                 1|                    1|               0.5|               1.0|                3|             63.47|    21.156666666666666|    1.7638688537794789|             1|                 0|             0|                bogo|          1|            1|             1|               3.0|  50|          81000.0|                   2795|\n",
            "|016871ea865d43389...|                   6|                 2|                    1|0.3333333333333333|               0.5|                3|             45.79|    15.263333333333334|     3.468635658776132|             0|                 1|             0|            discount|          1|            1|             1|3.1666666666666665|  57|          79000.0|                   2532|\n",
            "|f1a97a4aabba4015b...|                   5|                 4|                    1|               0.8|              0.25|                5|26.659999999999997|     5.331999999999999|     3.589034689160861|             1|                 0|             0|                bogo|          1|            1|             1|               3.4|  33|          44000.0|                   2816|\n",
            "|d7fec020017649a7a...|                   6|                 4|                    4|0.6666666666666666|               1.0|                6|             56.37|                 9.395|     4.531925639284034|             1|                 3|             0|            discount|          1|            1|             1|3.3333333333333335|  36|          40000.0|                   2681|\n",
            "|8ca462f1192b4aa29...|                   4|                 3|                    0|              0.75|               0.0|               13|             30.25|     2.326923076923077|    1.9551060696519111|          null|              null|          null|                null|          1|            1|             1|              3.25|  64|          54000.0|                   2926|\n",
            "|b3d1075ec03c4c188...|                   4|                 4|                    4|               1.0|               1.0|                5| 91.46000000000001|                18.292|     9.250152431176472|             2|                 2|             0|                bogo|          1|            1|             1|              3.75|  54|          71000.0|                   2891|\n",
            "|f83716ec38f44f038...|                   6|                 5|                    1|0.8333333333333334|               0.2|                7|              21.5|    3.0714285714285716|    1.5957070383942515|             1|                 0|             0|                bogo|          1|            1|             1|               3.5|  21|          35000.0|                   2562|\n",
            "|738943cdecfd45348...|                   6|                 5|                    1|0.8333333333333334|               0.2|               23| 86.64999999999998|     3.767391304347825|     2.420622041375662|             0|                 1|             0|            discount|          1|            1|             1|               3.5|  35|          61000.0|                   2750|\n",
            "|dfdd34f61d0645bca...|                   4|                 4|                    3|               1.0|              0.75|                2|             32.61|                16.305|    3.3728993462598327|             1|                 2|             0|            discount|          1|            1|             1|              3.25|  76|          59000.0|                   2756|\n",
            "|6be0513109fe4d738...|                   4|                 3|                    1|              0.75|0.3333333333333333|                3|             40.05|                 13.35|    0.5121523210920754|             0|                 1|             0|            discount|          1|            1|             1|               3.5|  42|          57000.0|                   2520|\n",
            "|ab25fd6fbd5040f88...|                   5|                 4|                    5|               0.8|              1.25|               30| 717.2099999999998|    23.906999999999993|    62.290056612260514|             2|                 3|             0|            discount|          1|            1|             1|               3.8|  35|          49000.0|                   3536|\n",
            "+--------------------+--------------------+------------------+---------------------+------------------+------------------+-----------------+------------------+----------------------+----------------------+--------------+------------------+--------------+--------------------+-----------+-------------+--------------+------------------+----+-----------------+-----------------------+\n",
            "only showing top 20 rows\n",
            "\n"
          ]
        }
      ],
      "source": [
        "df_final_analytics = spark.read.parquet(\"ifood-case/data/processed/df_final_analytics.parquet\")\n",
        "df_final_analytics.show()\n"
      ]
    },
    {
      "cell_type": "markdown",
      "metadata": {
        "id": "f_gz19wJq9O5"
      },
      "source": [
        "---"
      ]
    },
    {
      "cell_type": "markdown",
      "metadata": {
        "id": "y_30wfS6tVId"
      },
      "source": [
        "# Montando os modelos"
      ]
    },
    {
      "cell_type": "markdown",
      "metadata": {
        "id": "Tf5Qmlimtc7p"
      },
      "source": [
        "**Objetivo dos modelos:**\n",
        "- Entender diferentes níveis de engajamento com as ofertas — para então aplicar estratégias diferentes para cada grupo.\n",
        "\n",
        "1. Modelos multiclasses por estágio de engajamento\n",
        "Criar um modelo com três classes. Para entender em que estágio o cliente trava\n",
        "\n",
        "| Classe | Comportamento                     |\n",
        "| ------ | --------------------------------- |\n",
        "| `0`    | Recebe a oferta, **mas não vê**   |\n",
        "| `1`    | Vê a oferta, **mas não completa** |\n",
        "| `2`    | Vê e **completa a oferta**        |\n",
        "\n",
        "Estratégia:\n",
        "\n",
        "- Classe 0: revisar canal e momento do envio\n",
        "- Classe 1: revisar conteúdo/valor da oferta\n",
        "- Classe 2: manter estratégia parecida"
      ]
    },
    {
      "cell_type": "markdown",
      "metadata": {
        "id": "Mmj2G8FjvmSq"
      },
      "source": [
        "# 1. Criar coluna de engajamento por estágio do funil\n",
        "\n",
        "> Nível de engajamento (0 = não viu, 1 = viu mas não completou, 2 = completou)"
      ]
    },
    {
      "cell_type": "code",
      "execution_count": null,
      "metadata": {
        "id": "FA6BCk0CwFel"
      },
      "outputs": [],
      "source": [
        "df_final_analytics.filter(df_final_analytics.nome_da_coluna == \"categoria_desejada\").show()\n"
      ]
    },
    {
      "cell_type": "markdown",
      "metadata": {
        "id": "K97CTlojw67h"
      },
      "source": [
        "> A maioria dos clientes está engajada (nível 2), o que é um bom indicativo.\n",
        "\n",
        "> Há uma quantidade expressiva de clientes no nível 1 (quase 25%), que são ótimos alvos para estratégias de recuperação e reengajamento.\n",
        "\n",
        "> O nível 0 representa um grupo muito pequeno (menos de 1%) e pode ser tratado com estratégias de primeiro engajamento, mas talvez não seja um foco prioritário de otimização de curto prazo (embora interessante para análise qualitativa ou modelos futuros de churn/ativação)."
      ]
    },
    {
      "cell_type": "code",
      "execution_count": 151,
      "metadata": {
        "colab": {
          "base_uri": "https://localhost:8080/"
        },
        "id": "-3w2bVWMq8_b",
        "outputId": "f706653f-9cb7-4e99-c51a-ae4b38a50411"
      },
      "outputs": [
        {
          "name": "stdout",
          "output_type": "stream",
          "text": [
            "+----------------+-----+\n",
            "|engagement_level|count|\n",
            "+----------------+-----+\n",
            "|               0|  160|\n",
            "|               1| 4133|\n",
            "|               2|12707|\n",
            "+----------------+-----+\n",
            "\n"
          ]
        }
      ],
      "source": [
        "from pyspark.sql.functions import when, col\n",
        "\n",
        "df_final_analytics = df_final_analytics.withColumn(\n",
        "    \"engagement_level\",\n",
        "    when(col(\"offer_viewed_count\") == 0, 0)\n",
        "    .when((col(\"offer_viewed_count\") > 0) & (col(\"offer_completed_count\") == 0), 1)\n",
        "    .otherwise(2)\n",
        ")\n",
        "\n",
        "df_final_analytics.groupBy(\"engagement_level\").count().orderBy(\"engagement_level\").show()\n"
      ]
    },
    {
      "cell_type": "markdown",
      "metadata": {
        "id": "2gU6xFl53tfY"
      },
      "source": [
        "## 1.2. Imputação com estratégia guiada por negócio nos valores nulos"
      ]
    },
    {
      "cell_type": "markdown",
      "metadata": {
        "id": "KEnuGk5y3zKb"
      },
      "source": [
        "> Como tratar os clientes expostos às campanhas, mas não engajados (consequentemente valores nulos)\n",
        "\n",
        "| Coluna                                                   | Estratégia recomendada                              | Justificativa                                                          |\n",
        "| -------------------------------------------------------- | --------------------------------------------------- | ---------------------------------------------------------------------- |\n",
        "| `transaction_count`, `total_amount_spent`, `completed_*` | Preencher com `0`                                   | Indica ausência de comportamento, o que é informativo                  |\n",
        "| `avg_transaction_amount`, `std_transaction_amount`       | Preencher com `0` ou `null`                         | Valor só faz sentido se houve transação — `0` indica \"não gastou nada\" |\n",
        "| `preferred_offer_type`                                   | Preencher com `\"none\"`                              | Cliente ainda sem padrão de preferência                                |\n",
        "| `age`, `credit_card_limit`, `days_since_registration`    | Imputar com média ou criar **faixa \"desconhecido\"** | Evita perder clientes por falta de cadastro completo                   |\n",
        "| `view_rate`, `completion_rate`                           | Preencher com `0`                                   | Cliente que não viu ou não completou                                   |\n"
      ]
    },
    {
      "cell_type": "code",
      "execution_count": null,
      "metadata": {
        "id": "jGXNwh_V49ai"
      },
      "outputs": [],
      "source": [
        "# Valores nulos\n",
        "df_final_analytics.filter(\n",
        "    col(\"avg_transaction_amount\").isNull() |\n",
        "    col(\"completion_rate\").isNull() |\n",
        "    col(\"view_rate\").isNull()\n",
        ").show(10, truncate=False)\n"
      ]
    },
    {
      "cell_type": "code",
      "execution_count": 181,
      "metadata": {
        "id": "dYK7UH3o5Dgb"
      },
      "outputs": [],
      "source": [
        "from pyspark.sql.functions import when, col, lit\n",
        "\n",
        "df_model = df_final_analytics\n",
        "\n",
        "\n",
        "df_model = df_model.fillna({\n",
        "    \"transaction_count\": 0,\n",
        "    \"total_amount_spent\": 0.0,\n",
        "    \"completed_bogo\": 0,\n",
        "    \"completed_discount\": 0,\n",
        "    \"completed_info\": 0,\n",
        "    \"view_rate\": 0.0,\n",
        "    \"completion_rate\": 0.0,\n",
        "    \"channel_web\": 0,\n",
        "    \"channel_email\": 0,\n",
        "    \"channel_mobile\": 0,\n",
        "    \"avg_channel_count\": 0.0\n",
        "})\n"
      ]
    },
    {
      "cell_type": "markdown",
      "metadata": {
        "id": "HzydjsxV5-ae"
      },
      "source": [
        "> *Variáveis que só fazem sentido se houve transação*"
      ]
    },
    {
      "cell_type": "code",
      "execution_count": 182,
      "metadata": {
        "id": "5pZuWxKy59kN"
      },
      "outputs": [],
      "source": [
        "df_model = df_model.withColumn(\"avg_transaction_amount\",\n",
        "    when(col(\"avg_transaction_amount\").isNull(), None).otherwise(col(\"avg_transaction_amount\"))\n",
        ")\n",
        "\n",
        "df_model = df_model.withColumn(\"std_transaction_amount\",\n",
        "    when(col(\"std_transaction_amount\").isNull(), None).otherwise(col(\"std_transaction_amount\"))\n",
        ")\n"
      ]
    },
    {
      "cell_type": "markdown",
      "metadata": {
        "id": "1-zTmR8O54oZ"
      },
      "source": [
        "> *Tipo de oferta preferida — sem padrão ainda*"
      ]
    },
    {
      "cell_type": "code",
      "execution_count": 183,
      "metadata": {
        "id": "moK5cljB5yxM"
      },
      "outputs": [],
      "source": [
        "df_model = df_model.withColumn(\"preferred_offer_type\",\n",
        "    when(col(\"preferred_offer_type\").isNull(), \"none\").otherwise(col(\"preferred_offer_type\"))\n",
        ")"
      ]
    },
    {
      "cell_type": "markdown",
      "metadata": {
        "id": "f9U8GIoo517r"
      },
      "source": [
        "> *Dados de cadastro — imputar \"desconhecido\" para preservar cliente*\n",
        "\n",
        "> *Evita enviesamento estatístico: 0 não será usado como se fosse um gasto válido onde não houve.*"
      ]
    },
    {
      "cell_type": "code",
      "execution_count": 184,
      "metadata": {
        "id": "IlW-eIb85zz1"
      },
      "outputs": [],
      "source": [
        "df_model = df_model.fillna({\n",
        "    \"age\": -1,\n",
        "    \"credit_card_limit\": -1.0,\n",
        "    \"days_since_registration\": -1,\n",
        "    \"avg_transaction_amount\": -1.0,\n",
        "    \"std_transaction_amount\": -1.0\n",
        "})\n"
      ]
    },
    {
      "cell_type": "markdown",
      "metadata": {
        "id": "8fbelJtdyv-h"
      },
      "source": [
        "# 2.  Seleção de Features/Target e analise de desbalanceamento\n"
      ]
    },
    {
      "cell_type": "markdown",
      "metadata": {
        "id": "KO7QPUEvzFqD"
      },
      "source": [
        "> Features\n",
        "\n",
        "- Essas features foram seçlecionadas pela relação direta com o comportamento do cliente e a estrutura da oferta:\n",
        "\n"
      ]
    },
    {
      "cell_type": "markdown",
      "metadata": {
        "id": "6kMLmiXOzABt"
      },
      "source": [
        "> Target: engagement_level\n",
        "\n",
        "  - 0: Nunca engajou\n",
        "\n",
        "  - 1: Engajou parcialmente\n",
        "\n",
        "  - 2: Engajou totalmente"
      ]
    },
    {
      "cell_type": "markdown",
      "metadata": {
        "id": "5ZbIV-y7zVkL"
      },
      "source": [
        "> Desbalanceamento\n",
        "\n",
        "- Avaliar impacto do desbalanceamento nos modelos (ex: com matriz de confusão).\n",
        "\n",
        "- Testar estratégias como:\n",
        "\n",
        "- Class weights (ex: no RandomForest ou Logistic Regression)\n",
        "\n",
        "- Estratégia de avaliação focada em recall/precision de grupos minoritários"
      ]
    },
    {
      "cell_type": "markdown",
      "metadata": {
        "id": "JICBnUSEIRaY"
      },
      "source": [
        "> *Primeiro teste com o modelo desbalanceado* `Random Forest`"
      ]
    },
    {
      "cell_type": "code",
      "execution_count": 190,
      "metadata": {
        "colab": {
          "base_uri": "https://localhost:8080/"
        },
        "id": "iVo945MA0Skw",
        "outputId": "296fbe10-cf83-4d8d-ba04-d8c672fb8578"
      },
      "outputs": [
        {
          "name": "stdout",
          "output_type": "stream",
          "text": [
            "✅ Acurácia: 0.9886\n",
            "🎯 F1-score: 0.9829\n"
          ]
        }
      ],
      "source": [
        "from pyspark.ml.feature import VectorAssembler, StringIndexer\n",
        "from pyspark.ml.classification import RandomForestClassifier\n",
        "from pyspark.ml import Pipeline\n",
        "from pyspark.ml.evaluation import MulticlassClassificationEvaluator\n",
        "\n",
        "features = [\n",
        "    # Perfil do cliente\n",
        "    \"age\",\n",
        "    \"credit_card_limit\",\n",
        "    \"days_since_registration\",\n",
        "\n",
        "    # Comportamento de compra (geral)\n",
        "    \"transaction_count\",\n",
        "    \"total_amount_spent\",\n",
        "    \"avg_transaction_amount\",\n",
        "    \"std_transaction_amount\",\n",
        "\n",
        "    # Canais de marketing\n",
        "    \"channel_web\",\n",
        "    \"channel_email\",\n",
        "    \"channel_mobile\",\n",
        "    \"avg_channel_count\"\n",
        "]\n",
        "\n",
        "\n",
        "# 2. Indexar coluna categórica\n",
        "indexer = StringIndexer(inputCol=\"preferred_offer_type\", outputCol=\"preferred_offer_type_index\", handleInvalid=\"keep\")\n",
        "\n",
        "# 3. Vetorização\n",
        "assembler = VectorAssembler(\n",
        "    inputCols=[f for f in features if f != \"preferred_offer_type\"] + [\"preferred_offer_type_index\"],\n",
        "    outputCol=\"features\",\n",
        "    handleInvalid=\"keep\"  # ← evita erro com nulos ou valores inválidos\n",
        ")\n",
        "\n",
        "\n",
        "# 4. Classificador\n",
        "rf = RandomForestClassifier(labelCol=\"engagement_level\", featuresCol=\"features\", seed=42)\n",
        "\n",
        "# 5. Pipeline\n",
        "pipeline = Pipeline(stages=[indexer, assembler, rf])\n",
        "\n",
        "# 6. Divisão dos dados\n",
        "train, test = df_model.randomSplit([0.8, 0.2], seed=42)\n",
        "\n",
        "# 7. Treinamento\n",
        "model = pipeline.fit(train)\n",
        "\n",
        "# 8. Previsões\n",
        "predictions = model.transform(test)\n",
        "\n",
        "# 9. Avaliação\n",
        "evaluator_acc = MulticlassClassificationEvaluator(\n",
        "    labelCol=\"engagement_level\", predictionCol=\"prediction\", metricName=\"accuracy\"\n",
        ")\n",
        "evaluator_f1 = MulticlassClassificationEvaluator(\n",
        "    labelCol=\"engagement_level\", predictionCol=\"prediction\", metricName=\"f1\"\n",
        ")\n",
        "\n",
        "accuracy = evaluator_acc.evaluate(predictions)\n",
        "f1_score = evaluator_f1.evaluate(predictions)\n",
        "\n",
        "print(f\"✅ Acurácia: {accuracy:.4f}\")\n",
        "print(f\"🎯 F1-score: {f1_score:.4f}\")\n"
      ]
    },
    {
      "cell_type": "markdown",
      "metadata": {
        "id": "3uPtPokyDgFo"
      },
      "source": [
        "> Overfitting?"
      ]
    },
    {
      "cell_type": "code",
      "execution_count": 198,
      "metadata": {
        "colab": {
          "base_uri": "https://localhost:8080/"
        },
        "id": "laOOhIOuCwR9",
        "outputId": "4da482cb-9593-4376-9b96-9ac5558b60e1"
      },
      "outputs": [
        {
          "name": "stdout",
          "output_type": "stream",
          "text": [
            "📘 Acurácia Treino: 0.9909\n",
            "📘 F1-score Treino: 0.9865\n"
          ]
        }
      ],
      "source": [
        "# Avaliação no treino\n",
        "train_predictions = model.transform(train)\n",
        "\n",
        "train_acc = evaluator_acc.evaluate(train_predictions)\n",
        "train_f1 = evaluator_f1.evaluate(train_predictions)\n",
        "\n",
        "print(f\"📘 Acurácia Treino: {train_acc:.4f}\")\n",
        "print(f\"📘 F1-score Treino: {train_f1:.4f}\")\n"
      ]
    },
    {
      "cell_type": "code",
      "execution_count": 199,
      "metadata": {
        "colab": {
          "base_uri": "https://localhost:8080/"
        },
        "id": "Jx8v9l_jC5Pv",
        "outputId": "0c804c96-83a1-49d4-dabd-cc8ff8a2c5d5"
      },
      "outputs": [
        {
          "name": "stdout",
          "output_type": "stream",
          "text": [
            "F1-score com validação cruzada: 0.9829267765922475\n"
          ]
        }
      ],
      "source": [
        "from pyspark.ml.tuning import CrossValidator, ParamGridBuilder\n",
        "\n",
        "param_grid = ParamGridBuilder().addGrid(rf.numTrees, [10, 20, 50]).build()\n",
        "\n",
        "crossval = CrossValidator(\n",
        "    estimator=pipeline,\n",
        "    estimatorParamMaps=param_grid,\n",
        "    evaluator=evaluator_f1,\n",
        "    numFolds=5\n",
        ")\n",
        "\n",
        "cv_model = crossval.fit(train)\n",
        "cv_predictions = cv_model.transform(test)\n",
        "\n",
        "print(\"F1-score com validação cruzada:\", evaluator_f1.evaluate(cv_predictions))\n"
      ]
    },
    {
      "cell_type": "markdown",
      "metadata": {
        "id": "sHvBIiXdEb4o"
      },
      "source": [
        "> *Matriz de Confusão*"
      ]
    },
    {
      "cell_type": "markdown",
      "metadata": {
        "id": "00jFXPTXIYEV"
      },
      "source": [
        "> *Não esta conseguindo classificar a classe 0*"
      ]
    },
    {
      "cell_type": "code",
      "execution_count": 200,
      "metadata": {
        "colab": {
          "base_uri": "https://localhost:8080/"
        },
        "id": "J3Ngq7JZEcQ_",
        "outputId": "6d4a55d6-12f4-4250-f085-4d015efb85fa"
      },
      "outputs": [
        {
          "name": "stdout",
          "output_type": "stream",
          "text": [
            "+----------------+----------+-----+\n",
            "|engagement_level|prediction|count|\n",
            "+----------------+----------+-----+\n",
            "|               0|       1.0|   21|\n",
            "|               0|       2.0|   17|\n",
            "|               1|       1.0|  811|\n",
            "|               2|       2.0| 2480|\n",
            "+----------------+----------+-----+\n",
            "\n"
          ]
        }
      ],
      "source": [
        "predictions.groupBy(\"engagement_level\", \"prediction\").count().orderBy(\"engagement_level\", \"prediction\").show()\n"
      ]
    },
    {
      "cell_type": "markdown",
      "metadata": {
        "id": "nvtCTl-kEjuT"
      },
      "source": [
        "> *Métricas por Classe (Precision, Recall, F1)*\n",
        "\n",
        "> *Parece estar sensivel ao desbalanceamento*"
      ]
    },
    {
      "cell_type": "code",
      "execution_count": 203,
      "metadata": {
        "colab": {
          "base_uri": "https://localhost:8080/"
        },
        "id": "kTg54U2xEk9q",
        "outputId": "4d8f84fb-35ea-4994-a7a9-65df7804e35f"
      },
      "outputs": [
        {
          "name": "stdout",
          "output_type": "stream",
          "text": [
            "              precision    recall  f1-score   support\n",
            "\n",
            "           0       0.00      0.00      0.00        38\n",
            "           1       0.97      1.00      0.99       811\n",
            "           2       0.99      1.00      1.00      2480\n",
            "\n",
            "    accuracy                           0.99      3329\n",
            "   macro avg       0.66      0.67      0.66      3329\n",
            "weighted avg       0.98      0.99      0.98      3329\n",
            "\n"
          ]
        },
        {
          "name": "stderr",
          "output_type": "stream",
          "text": [
            "/usr/local/lib/python3.11/dist-packages/sklearn/metrics/_classification.py:1565: UndefinedMetricWarning: Precision is ill-defined and being set to 0.0 in labels with no predicted samples. Use `zero_division` parameter to control this behavior.\n",
            "  _warn_prf(average, modifier, f\"{metric.capitalize()} is\", len(result))\n",
            "/usr/local/lib/python3.11/dist-packages/sklearn/metrics/_classification.py:1565: UndefinedMetricWarning: Precision is ill-defined and being set to 0.0 in labels with no predicted samples. Use `zero_division` parameter to control this behavior.\n",
            "  _warn_prf(average, modifier, f\"{metric.capitalize()} is\", len(result))\n",
            "/usr/local/lib/python3.11/dist-packages/sklearn/metrics/_classification.py:1565: UndefinedMetricWarning: Precision is ill-defined and being set to 0.0 in labels with no predicted samples. Use `zero_division` parameter to control this behavior.\n",
            "  _warn_prf(average, modifier, f\"{metric.capitalize()} is\", len(result))\n"
          ]
        }
      ],
      "source": [
        "from sklearn.metrics import classification_report\n",
        "\n",
        "# Converte para Pandas\n",
        "pred_df = predictions.select(\"engagement_level\", \"prediction\").toPandas()\n",
        "\n",
        "# Exibe o relatório por classe\n",
        "print(classification_report(pred_df[\"engagement_level\"], pred_df[\"prediction\"]))\n"
      ]
    },
    {
      "cell_type": "markdown",
      "metadata": {
        "id": "4rJWFP5UEurF"
      },
      "source": [
        "> *Testando outros modelos mais sensiveis a esses tipo de distribuição*"
      ]
    },
    {
      "cell_type": "markdown",
      "metadata": {
        "id": "uybD5WcJII3V"
      },
      "source": [
        "> *Balanceamento das classes para utilizar com o modelo `Regressão Logística`*"
      ]
    },
    {
      "cell_type": "code",
      "execution_count": 213,
      "metadata": {
        "id": "1l40B2cRG2GE"
      },
      "outputs": [],
      "source": [
        "from pyspark.sql.functions import col\n",
        "from pyspark.sql import DataFrame\n",
        "from pyspark.ml.classification import LogisticRegression\n",
        "\n",
        "# Separa por classe\n",
        "class_0 = train.filter(col(\"engagement_level\") == 0)\n",
        "class_1 = train.filter(col(\"engagement_level\") == 1)\n",
        "class_2 = train.filter(col(\"engagement_level\") == 2)\n",
        "\n",
        "# Oversample da classe 0\n",
        "factor = int(class_2.count() / class_0.count())\n",
        "class_0_oversampled = class_0.unionAll(class_0).limit(class_0.count() * factor)\n",
        "\n",
        "# Novo train balanceado\n",
        "train_balanced = class_0_oversampled.unionAll(class_1).unionAll(class_2)\n"
      ]
    },
    {
      "cell_type": "code",
      "execution_count": 208,
      "metadata": {
        "colab": {
          "base_uri": "https://localhost:8080/"
        },
        "id": "3ft0O98IHB1-",
        "outputId": "2bd83bde-a571-4194-d35c-c42de640ef7e"
      },
      "outputs": [
        {
          "name": "stdout",
          "output_type": "stream",
          "text": [
            " Logistic Regression (balanceado) - Acurácia: 0.9892\n",
            " Logistic Regression (balanceado) - F1-score: 0.9844\n"
          ]
        }
      ],
      "source": [
        "# Indexador para variável categórica\n",
        "indexer = StringIndexer(inputCol=\"preferred_offer_type\", outputCol=\"preferred_offer_type_index\", handleInvalid=\"keep\")\n",
        "\n",
        "# 🔗 Vetorização das features\n",
        "assembler = VectorAssembler(\n",
        "    inputCols=features + [\"preferred_offer_type_index\"],\n",
        "    outputCol=\"features\",\n",
        "    handleInvalid=\"keep\"\n",
        ")\n",
        "\n",
        "#  Modelo de Regressão Logística Multiclasse\n",
        "lr = LogisticRegression(\n",
        "    labelCol=\"engagement_level\",\n",
        "    featuresCol=\"features\",\n",
        "    maxIter=100,\n",
        "    regParam=0.01,\n",
        "    elasticNetParam=0.0,  # regressão L2 pura\n",
        "    family=\"multinomial\"\n",
        ")\n",
        "\n",
        "#  Pipeline\n",
        "pipeline = Pipeline(stages=[indexer, assembler, lr])\n",
        "\n",
        "#  Treinamento com dados balanceados\n",
        "model = pipeline.fit(train_balanced)\n",
        "\n",
        "#  Previsões no conjunto de teste original\n",
        "predictions = model.transform(test)\n",
        "\n",
        "#  Avaliação\n",
        "evaluator_acc = MulticlassClassificationEvaluator(\n",
        "    labelCol=\"engagement_level\", predictionCol=\"prediction\", metricName=\"accuracy\"\n",
        ")\n",
        "evaluator_f1 = MulticlassClassificationEvaluator(\n",
        "    labelCol=\"engagement_level\", predictionCol=\"prediction\", metricName=\"f1\"\n",
        ")\n",
        "\n",
        "accuracy = evaluator_acc.evaluate(predictions)\n",
        "f1_score = evaluator_f1.evaluate(predictions)\n",
        "\n",
        "print(f\" Logistic Regression (balanceado) - Acurácia: {accuracy:.4f}\")\n",
        "print(f\" Logistic Regression (balanceado) - F1-score: {f1_score:.4f}\")"
      ]
    },
    {
      "cell_type": "markdown",
      "metadata": {
        "id": "l3DK1yvUItxG"
      },
      "source": [
        "> com o balanceamento o modelo passou a reconhecer a classe 0, que antes era completamente ignorada"
      ]
    },
    {
      "cell_type": "code",
      "execution_count": 211,
      "metadata": {
        "colab": {
          "base_uri": "https://localhost:8080/"
        },
        "id": "nYa8KTw_HOKC",
        "outputId": "d2619668-df2d-4050-915b-e9ceabf33864"
      },
      "outputs": [
        {
          "name": "stdout",
          "output_type": "stream",
          "text": [
            "+----------------+----------+-----+\n",
            "|engagement_level|prediction|count|\n",
            "+----------------+----------+-----+\n",
            "|               0|       0.0|    2|\n",
            "|               0|       1.0|   20|\n",
            "|               0|       2.0|   16|\n",
            "|               1|       1.0|  811|\n",
            "|               2|       2.0| 2480|\n",
            "+----------------+----------+-----+\n",
            "\n"
          ]
        }
      ],
      "source": [
        "predictions.groupBy(\"engagement_level\", \"prediction\").count().orderBy(\"engagement_level\", \"prediction\").show()\n"
      ]
    },
    {
      "cell_type": "markdown",
      "metadata": {
        "id": "lld_8tXMI0lT"
      },
      "source": [
        "# 3. Interpretar os resultados pensando no negócio"
      ]
    },
    {
      "cell_type": "markdown",
      "metadata": {
        "id": "Dv6-8NbcJEdo"
      },
      "source": [
        "Prever o nível de engajamento de um cliente com cupons, antes de enviá-los.\n",
        "Com isso, conseguimos:\n",
        "\n",
        "- Evitar enviar cupons para quem não responde (classe 0).\n",
        "  - nesse caso eu estava tentando pensar em alternativas pra conseguir chamar os clientes mesmo que seja enviando um informativo, porem não obtive sucesso por enquanto\n",
        "\n",
        "- Ajustar canal e tipo de oferta para quem tem resposta moderada (classe 1).\n",
        "\n",
        "- Investir mais nos clientes altamente engajados (classe 2)."
      ]
    }
  ],
  "metadata": {
    "colab": {
      "collapsed_sections": [
        "T1E0LSAqKIUy",
        "00pPKwEpMXJi",
        "Df6xoTFJzcdJ",
        "K4tKWtJvpf6l",
        "p3WnyAB-6KTD",
        "g-ir5cp-9Tmx",
        "UOcqKpKk_ipH",
        "Vi6d-s0PADUd",
        "M8a96mr_yR4A",
        "F7HbOD9BEJ1I",
        "mJ8NG2X4KbqR",
        "5OwDLO7hKZ8Z",
        "pyz39ikkKW2i",
        "_TYMAhJ-KPVY",
        "Z8avsBt-S4p-",
        "V_RNW5apUcBJ",
        "Y9G6Dl1OVpD0",
        "yqeRyQPUYWGA",
        "HfSWKcHiZgYg",
        "zN0gt00kexnM",
        "Mmj2G8FjvmSq",
        "8fbelJtdyv-h",
        "lld_8tXMI0lT"
      ],
      "provenance": [],
      "toc_visible": true
    },
    "kernelspec": {
      "display_name": "Python 3",
      "name": "python3"
    },
    "language_info": {
      "name": "python"
    }
  },
  "nbformat": 4,
  "nbformat_minor": 0
}
