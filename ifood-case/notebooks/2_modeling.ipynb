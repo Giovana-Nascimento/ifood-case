{
  "nbformat": 4,
  "nbformat_minor": 0,
  "metadata": {
    "colab": {
      "provenance": [],
      "collapsed_sections": [
        "T1E0LSAqKIUy",
        "00pPKwEpMXJi",
        "Df6xoTFJzcdJ",
        "K4tKWtJvpf6l",
        "p3WnyAB-6KTD",
        "g-ir5cp-9Tmx",
        "UOcqKpKk_ipH",
        "Vi6d-s0PADUd",
        "M8a96mr_yR4A",
        "F7HbOD9BEJ1I",
        "mJ8NG2X4KbqR",
        "5OwDLO7hKZ8Z",
        "pyz39ikkKW2i",
        "_TYMAhJ-KPVY",
        "Z8avsBt-S4p-",
        "V_RNW5apUcBJ",
        "Y9G6Dl1OVpD0",
        "yqeRyQPUYWGA",
        "HfSWKcHiZgYg",
        "zN0gt00kexnM",
        "Mmj2G8FjvmSq",
        "8fbelJtdyv-h",
        "lld_8tXMI0lT"
      ],
      "toc_visible": true
    },
    "kernelspec": {
      "name": "python3",
      "display_name": "Python 3"
    },
    "language_info": {
      "name": "python"
    }
  },
  "cells": [
    {
      "cell_type": "markdown",
      "source": [
        "> **Apenas configurações iniciais para configuirar o ambiente**"
      ],
      "metadata": {
        "id": "K6b4-_eRId8p"
      }
    },
    {
      "cell_type": "code",
      "execution_count": 5,
      "metadata": {
        "colab": {
          "base_uri": "https://localhost:8080/"
        },
        "id": "4dodvEdGIUlr",
        "outputId": "78d83d5d-1725-4b0a-e2ad-a378aaae285d",
        "collapsed": true
      },
      "outputs": [
        {
          "output_type": "stream",
          "name": "stdout",
          "text": [
            "\r0% [Working]\r            \rHit:1 http://archive.ubuntu.com/ubuntu jammy InRelease\n",
            "\r0% [Connecting to security.ubuntu.com (185.125.190.81)] [Connected to cloud.r-p\r                                                                               \rGet:2 http://archive.ubuntu.com/ubuntu jammy-updates InRelease [128 kB]\n",
            "Get:3 https://cloud.r-project.org/bin/linux/ubuntu jammy-cran40/ InRelease [3,632 B]\n",
            "Hit:4 https://developer.download.nvidia.com/compute/cuda/repos/ubuntu2204/x86_64  InRelease\n",
            "Get:5 http://security.ubuntu.com/ubuntu jammy-security InRelease [129 kB]\n",
            "Get:6 https://r2u.stat.illinois.edu/ubuntu jammy InRelease [6,555 B]\n",
            "Get:7 http://archive.ubuntu.com/ubuntu jammy-backports InRelease [127 kB]\n",
            "Hit:8 https://ppa.launchpadcontent.net/deadsnakes/ppa/ubuntu jammy InRelease\n",
            "Hit:9 https://ppa.launchpadcontent.net/graphics-drivers/ppa/ubuntu jammy InRelease\n",
            "Hit:10 https://ppa.launchpadcontent.net/ubuntugis/ppa/ubuntu jammy InRelease\n",
            "Get:11 http://archive.ubuntu.com/ubuntu jammy-updates/restricted amd64 Packages [4,436 kB]\n",
            "Get:12 http://archive.ubuntu.com/ubuntu jammy-updates/main amd64 Packages [3,211 kB]\n",
            "Get:13 https://r2u.stat.illinois.edu/ubuntu jammy/main amd64 Packages [2,715 kB]\n",
            "Get:14 http://archive.ubuntu.com/ubuntu jammy-updates/universe amd64 Packages [1,545 kB]\n",
            "Get:15 https://r2u.stat.illinois.edu/ubuntu jammy/main all Packages [8,909 kB]\n",
            "Get:16 http://archive.ubuntu.com/ubuntu jammy-backports/main amd64 Packages [83.2 kB]\n",
            "Get:17 http://security.ubuntu.com/ubuntu jammy-security/restricted amd64 Packages [4,274 kB]\n",
            "Get:18 http://security.ubuntu.com/ubuntu jammy-security/main amd64 Packages [2,897 kB]\n",
            "Get:19 http://security.ubuntu.com/ubuntu jammy-security/universe amd64 Packages [1,245 kB]\n",
            "Get:20 http://security.ubuntu.com/ubuntu jammy-security/multiverse amd64 Packages [47.7 kB]\n",
            "Fetched 29.8 MB in 7s (4,150 kB/s)\n",
            "Reading package lists... Done\n",
            "W: Skipping acquire of configured file 'main/source/Sources' as repository 'https://r2u.stat.illinois.edu/ubuntu jammy InRelease' does not seem to provide it (sources.list entry misspelt?)\n"
          ]
        }
      ],
      "source": [
        "!apt-get update\n",
        "!apt-get install openjdk-11-jdk-headless -qq > /dev/null\n",
        "!wget -q https://downloads.apache.org/spark/spark-3.4.1/spark-3.4.1-bin-hadoop3.tgz\n",
        "!tar xf spark-3.4.1-bin-hadoop3.tgz\n",
        "!pip install -q findspark\n",
        "\n",
        "import os\n",
        "os.environ[\"JAVA_HOME\"] = \"/usr/lib/jvm/java-11-openjdk-amd64\"\n",
        "os.environ[\"SPARK_HOME\"] = \"/content/spark-3.4.1-bin-hadoop3\"\n",
        "\n",
        "import findspark\n",
        "findspark.init()\n"
      ]
    },
    {
      "cell_type": "code",
      "source": [
        "import findspark\n",
        "findspark.init()\n",
        "\n",
        "from pyspark.sql import SparkSession\n",
        "\n",
        "spark = SparkSession.builder \\\n",
        "    .appName(\"Colab com PySpark\") \\\n",
        "    .getOrCreate()\n"
      ],
      "metadata": {
        "id": "VqMlIS1-IbKw"
      },
      "execution_count": 6,
      "outputs": []
    },
    {
      "cell_type": "code",
      "source": [
        "# Criando pasta para os arquivos\n",
        "!mkdir -p /ifood-case/data/raw/\n",
        "\n",
        "!mkdir -p /ifood-case/data/processed/"
      ],
      "metadata": {
        "id": "1FgAF-7XIdQr"
      },
      "execution_count": 141,
      "outputs": []
    },
    {
      "cell_type": "markdown",
      "source": [
        "# Análise Exploratória (EDA)"
      ],
      "metadata": {
        "id": "bkwXxYnwlBVo"
      }
    },
    {
      "cell_type": "markdown",
      "source": [
        "# 1. Leitura e inspeção inicial das bases"
      ],
      "metadata": {
        "id": "T1E0LSAqKIUy"
      }
    },
    {
      "cell_type": "markdown",
      "source": [
        "Datasets carregados:\n",
        "- offers.json → informações das ofertas (tipo, duração, canais, desconto)\n",
        "- customers.json → dados dos clientes (idade, gênero, limite, data de cadastro)\n",
        "- transactions.json → eventos de interação cliente/oferta\n",
        "\n",
        "**Objetivo:**\n",
        "- Entender a estrutura geral, os tipos de dados e o volume de registros iniciais.\n",
        "\n",
        "**Conclusão:**\n",
        "- As tabelas foram carregadas corretamente e os schemas foram verificados. Todas têm colunas estruturadas como esperado."
      ],
      "metadata": {
        "id": "iRpTHGgXlPgc"
      }
    },
    {
      "cell_type": "code",
      "source": [
        "# Leitura dos datasets\n",
        "df_offers = spark.read.json(\"/ifood-case/data/raw/offers.json\")\n",
        "df_customers = spark.read.json(\"/ifood-case/data/raw/profile.json\")\n",
        "df_transactions = spark.read.json(\"/ifood-case/data/raw/transactions.json\")\n",
        "\n",
        "# Primeira visualização da estrutura\n",
        "print(\"📦 Offers:\")\n",
        "df_offers.show(5, truncate=False)\n",
        "\n",
        "print(\"📦 Customers:\")\n",
        "df_customers.show(5, truncate=False)\n",
        "\n",
        "print(\"📦 Transactions:\")\n",
        "df_transactions.show(5, truncate=False)\n"
      ],
      "metadata": {
        "colab": {
          "base_uri": "https://localhost:8080/"
        },
        "id": "ZSkdhigaKJdy",
        "outputId": "91aeb8e5-5b63-40fd-b656-0858f2bd73d9"
      },
      "execution_count": 8,
      "outputs": [
        {
          "output_type": "stream",
          "name": "stdout",
          "text": [
            "📦 Offers:\n",
            "+----------------------------+--------------+--------+--------------------------------+---------+-------------+\n",
            "|channels                    |discount_value|duration|id                              |min_value|offer_type   |\n",
            "+----------------------------+--------------+--------+--------------------------------+---------+-------------+\n",
            "|[email, mobile, social]     |10            |7.0     |ae264e3637204a6fb9bb56bc8210ddfd|10       |bogo         |\n",
            "|[web, email, mobile, social]|10            |5.0     |4d5c57ea9a6940dd891ad53e9dbe8da0|10       |bogo         |\n",
            "|[web, email, mobile]        |0             |4.0     |3f207df678b143eea3cee63160fa8bed|0        |informational|\n",
            "|[web, email, mobile]        |5             |7.0     |9b98b8c7a33c4b65b9aebfe6a799e6d9|5        |bogo         |\n",
            "|[web, email]                |5             |10.0    |0b1e1539f2cc45b7b9fa7c272da2e1d7|20       |discount     |\n",
            "+----------------------------+--------------+--------+--------------------------------+---------+-------------+\n",
            "only showing top 5 rows\n",
            "\n",
            "📦 Customers:\n",
            "+---+-----------------+------+--------------------------------+-------------+\n",
            "|age|credit_card_limit|gender|id                              |registered_on|\n",
            "+---+-----------------+------+--------------------------------+-------------+\n",
            "|118|null             |null  |68be06ca386d4c31939f3a4f0e3dd783|20170212     |\n",
            "|55 |112000.0         |F     |0610b486422d4921ae7d2bf64640c50b|20170715     |\n",
            "|118|null             |null  |38fe809add3b4fcf9315a9694bb96ff5|20180712     |\n",
            "|75 |100000.0         |F     |78afa995795e4d85b5d9ceeca43f5fef|20170509     |\n",
            "|118|null             |null  |a03223e636434f42ac4c3df47e8bac43|20170804     |\n",
            "+---+-----------------+------+--------------------------------+-------------+\n",
            "only showing top 5 rows\n",
            "\n",
            "📦 Transactions:\n",
            "+--------------------------------+--------------+---------------------+----------------------------------------------------+\n",
            "|account_id                      |event         |time_since_test_start|value                                               |\n",
            "+--------------------------------+--------------+---------------------+----------------------------------------------------+\n",
            "|78afa995795e4d85b5d9ceeca43f5fef|offer received|0.0                  |{null, 9b98b8c7a33c4b65b9aebfe6a799e6d9, null, null}|\n",
            "|a03223e636434f42ac4c3df47e8bac43|offer received|0.0                  |{null, 0b1e1539f2cc45b7b9fa7c272da2e1d7, null, null}|\n",
            "|e2127556f4f64592b11af22de27a7932|offer received|0.0                  |{null, 2906b810c7d4411798c6938adc9daaa5, null, null}|\n",
            "|8ec6ce2a7e7949b1bf142def7d0e0586|offer received|0.0                  |{null, fafdcd668e3743c1bb461111dcafc2a4, null, null}|\n",
            "|68617ca6246f4fbc85e91a2a49552598|offer received|0.0                  |{null, 4d5c57ea9a6940dd891ad53e9dbe8da0, null, null}|\n",
            "+--------------------------------+--------------+---------------------+----------------------------------------------------+\n",
            "only showing top 5 rows\n",
            "\n"
          ]
        }
      ]
    },
    {
      "cell_type": "markdown",
      "source": [
        "## 1.1. Verificação de valores nulos"
      ],
      "metadata": {
        "id": "00pPKwEpMXJi"
      }
    },
    {
      "cell_type": "markdown",
      "source": [
        "**Objetivo:**\n",
        "- Entender os tipos de dados das colunas (schema) e identificar possíveis valores nulos ou vazios.\n",
        "\n",
        "**Conslusão:**\n",
        "- credit_card_limit e gender estão com 2.175 valores nulos. Exatamente a mesma quantidade de registros. Vamos analisar mais profundamente para entender se podemos descartar esses registros ou se deveriamos demandar esforço para trata-lo."
      ],
      "metadata": {
        "id": "xtWnrBDjmPo5"
      }
    },
    {
      "cell_type": "code",
      "source": [
        "# Verificando os schemas\n",
        "print(\"📋 Schema - Offers:\")\n",
        "df_offers.printSchema()\n",
        "\n",
        "print(\"📋 Schema - Customers:\")\n",
        "df_customers.printSchema()\n",
        "\n",
        "print(\"📋 Schema - Transactions:\")\n",
        "df_transactions.printSchema()\n",
        "\n",
        "# obs:\n",
        "  # registered_on está como string (ponto de atenção)\n",
        "  # time_since_test_start está como double? vamos usá-lo como proxy de tempo cronológico.\n",
        "  # dois ID's com quase o mesmo nome? (offer id/offer_id)"
      ],
      "metadata": {
        "colab": {
          "base_uri": "https://localhost:8080/"
        },
        "id": "HnVGTz18MY5P",
        "outputId": "d39eee53-bbc2-4894-bb8d-6788e30cc2b8",
        "collapsed": true
      },
      "execution_count": 10,
      "outputs": [
        {
          "output_type": "stream",
          "name": "stdout",
          "text": [
            "📋 Schema - Offers:\n",
            "root\n",
            " |-- channels: array (nullable = true)\n",
            " |    |-- element: string (containsNull = true)\n",
            " |-- discount_value: long (nullable = true)\n",
            " |-- duration: double (nullable = true)\n",
            " |-- id: string (nullable = true)\n",
            " |-- min_value: long (nullable = true)\n",
            " |-- offer_type: string (nullable = true)\n",
            "\n",
            "📋 Schema - Customers:\n",
            "root\n",
            " |-- age: long (nullable = true)\n",
            " |-- credit_card_limit: double (nullable = true)\n",
            " |-- gender: string (nullable = true)\n",
            " |-- id: string (nullable = true)\n",
            " |-- registered_on: string (nullable = true)\n",
            "\n",
            "📋 Schema - Transactions:\n",
            "root\n",
            " |-- account_id: string (nullable = true)\n",
            " |-- event: string (nullable = true)\n",
            " |-- time_since_test_start: double (nullable = true)\n",
            " |-- value: struct (nullable = true)\n",
            " |    |-- amount: double (nullable = true)\n",
            " |    |-- offer id: string (nullable = true)\n",
            " |    |-- offer_id: string (nullable = true)\n",
            " |    |-- reward: double (nullable = true)\n",
            "\n"
          ]
        }
      ]
    },
    {
      "cell_type": "code",
      "source": [
        "from pyspark.sql.functions import col, sum as spark_sum\n",
        "from pyspark.sql.functions import count, when,avg, expr\n",
        "\n",
        "def check_nulls(df, name):\n",
        "    print(f\"🔍 Nulos na tabela {name}\")\n",
        "    df.select([\n",
        "        spark_sum(col(c).isNull().cast(\"int\")).alias(c)\n",
        "        for c in df.columns\n",
        "    ]).show()\n",
        "\n",
        "check_nulls(df_offers, \"Offers\")\n",
        "check_nulls(df_customers, \"Customers\")\n",
        "check_nulls(df_transactions, \"Transactions\")\n"
      ],
      "metadata": {
        "colab": {
          "base_uri": "https://localhost:8080/"
        },
        "id": "6jCl9oWAMdwQ",
        "outputId": "5c5314fa-e527-4ee1-8a97-ff099e6b7ece"
      },
      "execution_count": 99,
      "outputs": [
        {
          "output_type": "stream",
          "name": "stdout",
          "text": [
            "🔍 Nulos na tabela Offers\n",
            "+--------+--------------+--------+---+---------+----------+\n",
            "|channels|discount_value|duration| id|min_value|offer_type|\n",
            "+--------+--------------+--------+---+---------+----------+\n",
            "|       0|             0|       0|  0|        0|         0|\n",
            "+--------+--------------+--------+---+---------+----------+\n",
            "\n",
            "🔍 Nulos na tabela Customers\n",
            "+---+-----------------+------+---+-------------+\n",
            "|age|credit_card_limit|gender| id|registered_on|\n",
            "+---+-----------------+------+---+-------------+\n",
            "|  0|             2175|  2175|  0|            0|\n",
            "+---+-----------------+------+---+-------------+\n",
            "\n",
            "🔍 Nulos na tabela Transactions\n",
            "+----------+-----+---------------------+-----+\n",
            "|account_id|event|time_since_test_start|value|\n",
            "+----------+-----+---------------------+-----+\n",
            "|         0|    0|                    0|    0|\n",
            "+----------+-----+---------------------+-----+\n",
            "\n"
          ]
        }
      ]
    },
    {
      "cell_type": "markdown",
      "source": [
        "## 1.2. Verificação e tratamento dos valores da `customer`"
      ],
      "metadata": {
        "id": "Df6xoTFJzcdJ"
      }
    },
    {
      "cell_type": "markdown",
      "source": [
        "### 1.2.1. Verificação dos valores nulos"
      ],
      "metadata": {
        "id": "K4tKWtJvpf6l"
      }
    },
    {
      "cell_type": "markdown",
      "source": [
        "**Objetivo:**\n",
        "- Ver se os nulos em gender e credit_card_limit estão nos mesmos registros.\n",
        "- Avaliar a proporção desses nulos em relação ao total.\n",
        "- Entender se há alguma lógica de negócio por trás da ausência desses dados (ex: contas não finalizadas, usuários novos).\n",
        "\n",
        "**Conslusão:**\n",
        "- Esses 2.175 clientes têm os dois campos nulos simultaneamente, o que indica um mesmo tipo de perfil. Alem disso podemos ver que os registros também tem a idade discrepante;\n",
        "\n",
        "- Eles representam apenas 12,8% da base;\n",
        "\n",
        "- Estão incompletos para modelagem: sem gênero, sem limite, e com idade inválida;\n",
        "\n",
        "- **A decisão foi de excluir** agora evita imputações artificiais em massa que podem distorcer análises. Além de considerar que eu nao conseguiria inferir o perfil desse tipo de cliente;\n",
        "\n",
        "\n",
        "**Hipótese**:\n",
        "esses clientes são cadastros incompletos, testes, ou placeholders do sistema."
      ],
      "metadata": {
        "id": "Xvja_Wxw0mtk"
      }
    },
    {
      "cell_type": "code",
      "source": [
        "# Total de registros\n",
        "total_customers = df_customers.count()\n",
        "\n",
        "# Verificando nulos combinados\n",
        "df_customers.select(\n",
        "    count(\"*\").alias(\"total\"),\n",
        "    count(when(col(\"age\")==118, 1)).alias(\"age_118\"),\n",
        "    count(when(col(\"gender\").isNull(), 1)).alias(\"nulos_gender\"),\n",
        "    count(when(col(\"credit_card_limit\").isNull(), 1)).alias(\"nulos_credit_limit\"),\n",
        "    count(when((col(\"gender\").isNull()) & (col(\"credit_card_limit\").isNull()), 1)).alias(\"nulos_ambos\")\n",
        ").show()\n",
        "\n",
        "\n"
      ],
      "metadata": {
        "colab": {
          "base_uri": "https://localhost:8080/"
        },
        "id": "RIxJUkr0zhY9",
        "outputId": "0f674b8c-5f6c-4b0d-aec0-13f95b933cd7"
      },
      "execution_count": 14,
      "outputs": [
        {
          "output_type": "stream",
          "name": "stdout",
          "text": [
            "+-----+-------+------------+------------------+-----------+\n",
            "|total|age_118|nulos_gender|nulos_credit_limit|nulos_ambos|\n",
            "+-----+-------+------------+------------------+-----------+\n",
            "|17000|   2175|        2175|              2175|       2175|\n",
            "+-----+-------+------------+------------------+-----------+\n",
            "\n"
          ]
        }
      ]
    },
    {
      "cell_type": "code",
      "source": [
        "# Amostra de clientes com dados faltando\n",
        "df_customers.filter(col(\"gender\").isNull() | col(\"credit_card_limit\").isNull()).show(10, truncate=False)"
      ],
      "metadata": {
        "colab": {
          "base_uri": "https://localhost:8080/"
        },
        "id": "GEpfp-8uzriq",
        "outputId": "2064d7b3-ab84-447a-c4d5-ed285c072f3e"
      },
      "execution_count": 15,
      "outputs": [
        {
          "output_type": "stream",
          "name": "stdout",
          "text": [
            "+---+-----------------+------+--------------------------------+-------------+\n",
            "|age|credit_card_limit|gender|id                              |registered_on|\n",
            "+---+-----------------+------+--------------------------------+-------------+\n",
            "|118|null             |null  |68be06ca386d4c31939f3a4f0e3dd783|20170212     |\n",
            "|118|null             |null  |38fe809add3b4fcf9315a9694bb96ff5|20180712     |\n",
            "|118|null             |null  |a03223e636434f42ac4c3df47e8bac43|20170804     |\n",
            "|118|null             |null  |8ec6ce2a7e7949b1bf142def7d0e0586|20170925     |\n",
            "|118|null             |null  |68617ca6246f4fbc85e91a2a49552598|20171002     |\n",
            "|118|null             |null  |8974fc5686fe429db53ddde067b88302|20161122     |\n",
            "|118|null             |null  |c4863c7985cf408faee930f111475da3|20170824     |\n",
            "|118|null             |null  |148adfcaa27d485b82f323aaaad036bd|20150919     |\n",
            "|118|null             |null  |744d603ef08c4f33af5a61c8c7628d1c|20170801     |\n",
            "|118|null             |null  |2b826eba31074a059d63b0ae8f50b7d5|20170907     |\n",
            "+---+-----------------+------+--------------------------------+-------------+\n",
            "only showing top 10 rows\n",
            "\n"
          ]
        }
      ]
    },
    {
      "cell_type": "code",
      "source": [
        "df_customers.filter(\n",
        "    (col(\"age\") == 118) &\n",
        "    (col(\"credit_card_limit\").isNotNull()) &\n",
        "    (col(\"gender\").isNotNull())\n",
        ").count()\n"
      ],
      "metadata": {
        "colab": {
          "base_uri": "https://localhost:8080/"
        },
        "id": "q5bcHJNR0zRX",
        "outputId": "48a10359-d67e-4007-e217-737d0785d8bc"
      },
      "execution_count": 16,
      "outputs": [
        {
          "output_type": "execute_result",
          "data": {
            "text/plain": [
              "0"
            ]
          },
          "metadata": {},
          "execution_count": 16
        }
      ]
    },
    {
      "cell_type": "code",
      "source": [
        "df_customers.groupBy(\"age\").count().orderBy(\"age\").show(70)\n"
      ],
      "metadata": {
        "colab": {
          "base_uri": "https://localhost:8080/"
        },
        "id": "E1xR3pYd0hog",
        "outputId": "3c023d6b-7979-427f-9d94-b46840066fe2",
        "collapsed": true
      },
      "execution_count": 17,
      "outputs": [
        {
          "output_type": "stream",
          "name": "stdout",
          "text": [
            "+---+-----+\n",
            "|age|count|\n",
            "+---+-----+\n",
            "| 18|   70|\n",
            "| 19|  135|\n",
            "| 20|  135|\n",
            "| 21|  140|\n",
            "| 22|  131|\n",
            "| 23|  126|\n",
            "| 24|  139|\n",
            "| 25|  136|\n",
            "| 26|  157|\n",
            "| 27|  139|\n",
            "| 28|  137|\n",
            "| 29|  129|\n",
            "| 30|  131|\n",
            "| 31|  113|\n",
            "| 32|  139|\n",
            "| 33|  152|\n",
            "| 34|  147|\n",
            "| 35|  118|\n",
            "| 36|  175|\n",
            "| 37|  197|\n",
            "| 38|  172|\n",
            "| 39|  182|\n",
            "| 40|  202|\n",
            "| 41|  189|\n",
            "| 42|  227|\n",
            "| 43|  215|\n",
            "| 44|  192|\n",
            "| 45|  231|\n",
            "| 46|  212|\n",
            "| 47|  232|\n",
            "| 48|  288|\n",
            "| 49|  321|\n",
            "| 50|  284|\n",
            "| 51|  363|\n",
            "| 52|  351|\n",
            "| 53|  372|\n",
            "| 54|  359|\n",
            "| 55|  350|\n",
            "| 56|  342|\n",
            "| 57|  353|\n",
            "| 58|  408|\n",
            "| 59|  359|\n",
            "| 60|  333|\n",
            "| 61|  309|\n",
            "| 62|  318|\n",
            "| 63|  338|\n",
            "| 64|  311|\n",
            "| 65|  280|\n",
            "| 66|  284|\n",
            "| 67|  317|\n",
            "| 68|  259|\n",
            "| 69|  242|\n",
            "| 70|  252|\n",
            "| 71|  230|\n",
            "| 72|  191|\n",
            "| 73|  209|\n",
            "| 74|  193|\n",
            "| 75|  159|\n",
            "| 76|  155|\n",
            "| 77|  141|\n",
            "| 78|  135|\n",
            "| 79|  117|\n",
            "| 80|  116|\n",
            "| 81|  118|\n",
            "| 82|  105|\n",
            "| 83|  102|\n",
            "| 84|   83|\n",
            "| 85|   70|\n",
            "| 86|   54|\n",
            "| 87|   66|\n",
            "+---+-----+\n",
            "only showing top 70 rows\n",
            "\n"
          ]
        }
      ]
    },
    {
      "cell_type": "markdown",
      "source": [
        "- **O foco do projeto é distribuição de cupons baseada em perfis e comportamento**, e essas linhas não têm dados para formar perfil algum.\n",
        "\n",
        "- Não possuem gênero, crédito, nem idade válida, ou seja, não ajudam a inferir preferências nem comportamento de consumo.\n",
        "\n",
        "- Até o momento, não há nenhuma métr ou lógica no case que dependa de contas inativas ou incompletas."
      ],
      "metadata": {
        "id": "bILsCwUE19QG"
      }
    },
    {
      "cell_type": "code",
      "source": [
        "df_customers_clean = df_customers.filter(\n",
        "    ~((col(\"credit_card_limit\").isNull()) &\n",
        "      (col(\"gender\").isNull()) &\n",
        "      (col(\"age\") == 118))\n",
        ")\n",
        "\n",
        "# Separa para possível uso futuro, sem levar pra análise principal\n",
        "df_customers_nulls = df_customers.filter(\n",
        "    (col(\"credit_card_limit\").isNull()) |\n",
        "    (col(\"gender\").isNull()) |\n",
        "    (col(\"age\") == 118)\n",
        ")"
      ],
      "metadata": {
        "id": "UBbrSAlP2G74"
      },
      "execution_count": 70,
      "outputs": []
    },
    {
      "cell_type": "markdown",
      "source": [
        "### 1.2.2. Análise estatística de colunas numéricas restantes"
      ],
      "metadata": {
        "id": "p3WnyAB-6KTD"
      }
    },
    {
      "cell_type": "markdown",
      "source": [
        "**Objetivo:**\n",
        "- detectar valores suspeitos depois da tratativa dos dados anteriores\n",
        "\n",
        "**Conslusão: (`AGE`)**\n",
        "- Representam um grupo pequeno, mas podem ser clientes reais e que tem engajamento.\n",
        "\n",
        "- Não há evidência clara de que são erros como os 118.\n",
        "\n",
        "- Modelos como árvores e gradient boosting lidam bem com outliers, principalmente se a variável for contínua.\n",
        "\n",
        "- Criar faixas de idade (age_group) para modelos de classificação (pode virar variável categórica) quando chegar a parte de engenharia de features.. (# cuidado com Multicolinearidade)\n",
        "\n",
        "- Ou capar valores em um máximo definido (winsorization)\n",
        "\n",
        "**Conclusão: (`card limit`)**\n",
        "- Faixas balanceadas com base nos quartis, evitando viés de predominância quando chegar a parte de engenharia de features.\n",
        "\n",
        "**Hipótese:**\n",
        "- Usar regularização (se for regressão) ou árvores que dividem com base em ganho de informação.\n",
        "\n"
      ],
      "metadata": {
        "id": "hMMFagWVp9tP"
      }
    },
    {
      "cell_type": "code",
      "source": [
        "# Função para calcular limites e detectar outliers em uma coluna\n",
        "def calcular_outliers(df, coluna):\n",
        "    q1, q3 = df.approxQuantile(coluna, [0.25, 0.75], 0.01)\n",
        "    iqr = q3 - q1\n",
        "    limite_inferior = q1 - 1.5 * iqr\n",
        "    limite_superior = q3 + 1.5 * iqr\n",
        "\n",
        "    print(f\"📌 {coluna.upper()}\")\n",
        "    print(f\"Q1: {q1}, Q3: {q3}, IQR: {iqr}\")\n",
        "    print(f\"Limite inferior: {limite_inferior}, Limite superior: {limite_superior}\")\n",
        "\n",
        "    return (limite_inferior, limite_superior)\n"
      ],
      "metadata": {
        "id": "F8Zo8KLgxD1G"
      },
      "execution_count": 71,
      "outputs": []
    },
    {
      "cell_type": "markdown",
      "source": [
        "> **Ver estatísticas de `age`**"
      ],
      "metadata": {
        "id": "vip3tomnxtqm"
      }
    },
    {
      "cell_type": "code",
      "source": [
        "df_customers_clean.select(\"age\").summary(\"count\", \"min\", \"max\", \"mean\", \"stddev\").show()\n"
      ],
      "metadata": {
        "colab": {
          "base_uri": "https://localhost:8080/"
        },
        "id": "HMC0qNTR6JHR",
        "outputId": "f738da74-ca58-44f7-be58-9efd9e0f8693"
      },
      "execution_count": 73,
      "outputs": [
        {
          "output_type": "stream",
          "name": "stdout",
          "text": [
            "+-------+------------------+\n",
            "|summary|               age|\n",
            "+-------+------------------+\n",
            "|  count|             14825|\n",
            "|    min|                18|\n",
            "|    max|               101|\n",
            "|   mean| 54.39352445193929|\n",
            "| stddev|17.383705365855015|\n",
            "+-------+------------------+\n",
            "\n"
          ]
        }
      ]
    },
    {
      "cell_type": "code",
      "source": [
        "from pyspark.sql.functions import col, round\n",
        "\n",
        "df_valores_agrupados_age = df_customers_clean \\\n",
        "    .withColumn(\"age\", col(\"age\")) \\\n",
        "    .groupBy(\"age\") \\\n",
        "    .count() \\\n",
        "    .orderBy(\"age\")\n",
        "\n",
        "df_valores_agrupados_age.show(100)\n",
        "\n"
      ],
      "metadata": {
        "colab": {
          "base_uri": "https://localhost:8080/"
        },
        "collapsed": true,
        "id": "p_wR-WVnrK-x",
        "outputId": "56e6b0d3-49cb-4164-9fbb-3e7031836766"
      },
      "execution_count": 75,
      "outputs": [
        {
          "output_type": "stream",
          "name": "stdout",
          "text": [
            "+---+-----+\n",
            "|age|count|\n",
            "+---+-----+\n",
            "| 18|   70|\n",
            "| 19|  135|\n",
            "| 20|  135|\n",
            "| 21|  140|\n",
            "| 22|  131|\n",
            "| 23|  126|\n",
            "| 24|  139|\n",
            "| 25|  136|\n",
            "| 26|  157|\n",
            "| 27|  139|\n",
            "| 28|  137|\n",
            "| 29|  129|\n",
            "| 30|  131|\n",
            "| 31|  113|\n",
            "| 32|  139|\n",
            "| 33|  152|\n",
            "| 34|  147|\n",
            "| 35|  118|\n",
            "| 36|  175|\n",
            "| 37|  197|\n",
            "| 38|  172|\n",
            "| 39|  182|\n",
            "| 40|  202|\n",
            "| 41|  189|\n",
            "| 42|  227|\n",
            "| 43|  215|\n",
            "| 44|  192|\n",
            "| 45|  231|\n",
            "| 46|  212|\n",
            "| 47|  232|\n",
            "| 48|  288|\n",
            "| 49|  321|\n",
            "| 50|  284|\n",
            "| 51|  363|\n",
            "| 52|  351|\n",
            "| 53|  372|\n",
            "| 54|  359|\n",
            "| 55|  350|\n",
            "| 56|  342|\n",
            "| 57|  353|\n",
            "| 58|  408|\n",
            "| 59|  359|\n",
            "| 60|  333|\n",
            "| 61|  309|\n",
            "| 62|  318|\n",
            "| 63|  338|\n",
            "| 64|  311|\n",
            "| 65|  280|\n",
            "| 66|  284|\n",
            "| 67|  317|\n",
            "| 68|  259|\n",
            "| 69|  242|\n",
            "| 70|  252|\n",
            "| 71|  230|\n",
            "| 72|  191|\n",
            "| 73|  209|\n",
            "| 74|  193|\n",
            "| 75|  159|\n",
            "| 76|  155|\n",
            "| 77|  141|\n",
            "| 78|  135|\n",
            "| 79|  117|\n",
            "| 80|  116|\n",
            "| 81|  118|\n",
            "| 82|  105|\n",
            "| 83|  102|\n",
            "| 84|   83|\n",
            "| 85|   70|\n",
            "| 86|   54|\n",
            "| 87|   66|\n",
            "| 88|   64|\n",
            "| 89|   53|\n",
            "| 90|   52|\n",
            "| 91|   47|\n",
            "| 92|   40|\n",
            "| 93|   29|\n",
            "| 94|   33|\n",
            "| 95|   22|\n",
            "| 96|    8|\n",
            "| 97|   13|\n",
            "| 98|    5|\n",
            "| 99|    5|\n",
            "|100|   12|\n",
            "|101|    5|\n",
            "+---+-----+\n",
            "\n"
          ]
        }
      ]
    },
    {
      "cell_type": "code",
      "source": [
        "# Calcular Q1, Q3, IQR e limites\n",
        "lim_age = calcular_outliers(df_customers_clean, \"age\")"
      ],
      "metadata": {
        "colab": {
          "base_uri": "https://localhost:8080/"
        },
        "id": "pbKIFA66xIOJ",
        "outputId": "d2f1c1a8-e80b-4563-99d6-904abc04e998"
      },
      "execution_count": 76,
      "outputs": [
        {
          "output_type": "stream",
          "name": "stdout",
          "text": [
            "📌 AGE\n",
            "Q1: 43.0, Q3: 66.0, IQR: 23.0\n",
            "Limite inferior: 8.5, Limite superior: 100.5\n"
          ]
        }
      ]
    },
    {
      "cell_type": "markdown",
      "source": [
        "> **Ver estatísticas de `credit_card_limit`**"
      ],
      "metadata": {
        "id": "C_mhOSyP4Sv_"
      }
    },
    {
      "cell_type": "code",
      "source": [
        "df_customers_clean.select(\"credit_card_limit\").summary(\"count\", \"min\", \"max\", \"mean\", \"stddev\").show()\n"
      ],
      "metadata": {
        "colab": {
          "base_uri": "https://localhost:8080/"
        },
        "id": "tbOdQBXQ4XLH",
        "outputId": "760c9ce1-4736-435c-81e4-33cb62e21301"
      },
      "execution_count": 77,
      "outputs": [
        {
          "output_type": "stream",
          "name": "stdout",
          "text": [
            "+-------+------------------+\n",
            "|summary| credit_card_limit|\n",
            "+-------+------------------+\n",
            "|  count|             14825|\n",
            "|    min|           30000.0|\n",
            "|    max|          120000.0|\n",
            "|   mean|  65404.9915682968|\n",
            "| stddev|21598.299410229436|\n",
            "+-------+------------------+\n",
            "\n"
          ]
        }
      ]
    },
    {
      "cell_type": "code",
      "source": [
        "lim_credit = calcular_outliers(df_customers_clean, \"credit_card_limit\")\n"
      ],
      "metadata": {
        "colab": {
          "base_uri": "https://localhost:8080/"
        },
        "id": "TLxgo09B8QjX",
        "outputId": "c816cdbf-453e-4e02-ce0b-ccacade022f8"
      },
      "execution_count": 78,
      "outputs": [
        {
          "output_type": "stream",
          "name": "stdout",
          "text": [
            "📌 CREDIT_CARD_LIMIT\n",
            "Q1: 49000.0, Q3: 79000.0, IQR: 30000.0\n",
            "Limite inferior: 4000.0, Limite superior: 124000.0\n"
          ]
        }
      ]
    },
    {
      "cell_type": "markdown",
      "source": [
        "> **Converter registered_on para date**\n"
      ],
      "metadata": {
        "id": "FbO_OVGk4fpd"
      }
    },
    {
      "cell_type": "code",
      "source": [
        "from pyspark.sql.functions import to_date\n",
        "\n",
        "df_customers_clean = df_customers_clean.withColumn(\n",
        "    \"registered_on_date\",\n",
        "    to_date(col(\"registered_on\").cast(\"string\"), \"yyyyMMdd\")\n",
        ")\n"
      ],
      "metadata": {
        "id": "wvk1Sm6S4d_3"
      },
      "execution_count": 79,
      "outputs": []
    },
    {
      "cell_type": "code",
      "source": [
        "from pyspark.sql.functions import datediff, current_date\n",
        "\n",
        "df_customers_clean = df_customers_clean.withColumn(\n",
        "    \"days_since_registration\",\n",
        "    datediff(current_date(), col(\"registered_on_date\"))\n",
        ")\n"
      ],
      "metadata": {
        "id": "KyjpEIjb8_9t"
      },
      "execution_count": 80,
      "outputs": []
    },
    {
      "cell_type": "markdown",
      "source": [
        "> ***Tabela Final***"
      ],
      "metadata": {
        "id": "7A4dXkCF9PTP"
      }
    },
    {
      "cell_type": "code",
      "source": [
        "df_customers_clean.show()"
      ],
      "metadata": {
        "colab": {
          "base_uri": "https://localhost:8080/"
        },
        "id": "QhDMX1xD88y-",
        "outputId": "ea3dbef6-1c0e-4dda-e2b3-0c71b9945a48"
      },
      "execution_count": 81,
      "outputs": [
        {
          "output_type": "stream",
          "name": "stdout",
          "text": [
            "+---+-----------------+------+--------------------+-------------+------------------+-----------------------+\n",
            "|age|credit_card_limit|gender|                  id|registered_on|registered_on_date|days_since_registration|\n",
            "+---+-----------------+------+--------------------+-------------+------------------+-----------------------+\n",
            "| 55|         112000.0|     F|0610b486422d4921a...|     20170715|        2017-07-15|                   2853|\n",
            "| 75|         100000.0|     F|78afa995795e4d85b...|     20170509|        2017-05-09|                   2920|\n",
            "| 68|          70000.0|     M|e2127556f4f64592b...|     20180426|        2018-04-26|                   2568|\n",
            "| 65|          53000.0|     M|389bc3fa690240e79...|     20180209|        2018-02-09|                   2644|\n",
            "| 58|          51000.0|     M|2eeac8d8feae4a8ca...|     20171111|        2017-11-11|                   2734|\n",
            "| 61|          57000.0|     F|aa4862eba776480b8...|     20170911|        2017-09-11|                   2795|\n",
            "| 26|          46000.0|     M|e12aeaf2d47d42479...|     20140213|        2014-02-13|                   4101|\n",
            "| 62|          71000.0|     F|31dda685af34476ca...|     20160211|        2016-02-11|                   3373|\n",
            "| 49|          52000.0|     M|62cf5e10845442329...|     20141113|        2014-11-13|                   3828|\n",
            "| 57|          42000.0|     M|6445de3b47274c759...|     20171231|        2017-12-31|                   2684|\n",
            "| 61|          40000.0|     F|a448667f336b42c9a...|     20180501|        2018-05-01|                   2563|\n",
            "| 40|          71000.0|     F|440cf1fd7580490c9...|     20160504|        2016-05-04|                   3290|\n",
            "| 64|         100000.0|     M|4b0da7e80e5945209...|     20170909|        2017-09-09|                   2797|\n",
            "| 78|          71000.0|     F|c27e0d6ab72c455a8...|     20170616|        2017-06-16|                   2882|\n",
            "| 42|          69000.0|     M|f806632c011441378...|     20130811|        2013-08-11|                   4287|\n",
            "| 56|          88000.0|     F|d058f73bf8674a26a...|     20180428|        2018-04-28|                   2566|\n",
            "| 33|          52000.0|     F|c6c9884912c645429...|     20170926|        2017-09-26|                   2780|\n",
            "| 46|          59000.0|     F|7429a044884842d68...|     20170911|        2017-09-11|                   2795|\n",
            "| 59|          41000.0|     M|ebe7ef46ea6f4963a...|     20150121|        2015-01-21|                   3759|\n",
            "| 67|          96000.0|     M|5917d13f6fa04286a...|     20140823|        2014-08-23|                   3910|\n",
            "+---+-----------------+------+--------------------+-------------+------------------+-----------------------+\n",
            "only showing top 20 rows\n",
            "\n"
          ]
        }
      ]
    },
    {
      "cell_type": "markdown",
      "source": [
        "## 1.3. Verificação e tratamento dos valores da `offers`"
      ],
      "metadata": {
        "id": "g-ir5cp-9Tmx"
      }
    },
    {
      "cell_type": "markdown",
      "source": [
        "**Objetivo**\n",
        "- Avaliar como as colunas estão se comportando.\n",
        "- Se existe algum outlier ou valor inconsistente de acordo com a regra de negocio.\n",
        "\n",
        "**Conclusão:**\n",
        "- Nenhuma coluna tem valores nulos (confirmado no início).\n",
        "- **A tabela esta consistente:**\n",
        "  - informational não tem desconto;\n",
        "  - sem valores negativos ou suspeitos;\n",
        "\n",
        "**Hipótese**\n",
        "- Como o tipo informational não concede desconto, qualquer conversão após recebê-la provavelmente representa interesse do usuário pela marca, não por incentivo financeiro. Ou usuário que tem compras recorrentes.\n",
        "\n",
        "- Ofertas com min_value = 0 e discount_value = 0 são iscas de engajamento e podem servir como baseline de performance em análises comparativas."
      ],
      "metadata": {
        "id": "wgbN0hau9yYn"
      }
    },
    {
      "cell_type": "code",
      "source": [
        "df_offers.groupBy(\"offer_type\").count().show()\n"
      ],
      "metadata": {
        "colab": {
          "base_uri": "https://localhost:8080/"
        },
        "id": "tDoS0SKL9uXt",
        "outputId": "2e94a41d-b493-4c57-c4c1-b4e10ace279b"
      },
      "execution_count": null,
      "outputs": [
        {
          "output_type": "stream",
          "name": "stdout",
          "text": [
            "+-------------+-----+\n",
            "|   offer_type|count|\n",
            "+-------------+-----+\n",
            "|     discount|    4|\n",
            "|informational|    2|\n",
            "|         bogo|    4|\n",
            "+-------------+-----+\n",
            "\n"
          ]
        }
      ]
    },
    {
      "cell_type": "markdown",
      "source": [
        "> *não deveríamos ver valores em discount_value ou min_value para informational, senão há inconsistência.*"
      ],
      "metadata": {
        "id": "AuT262zv94uR"
      }
    },
    {
      "cell_type": "code",
      "source": [
        "df_offers.select(\"min_value\", \"duration\", \"discount_value\").summary(\"count\", \"min\", \"max\", \"mean\", \"stddev\").show()\n"
      ],
      "metadata": {
        "colab": {
          "base_uri": "https://localhost:8080/"
        },
        "id": "k6ZzrHVH91qz",
        "outputId": "3a57f53f-02b1-4f62-de81-e4d15c6f4ac1"
      },
      "execution_count": null,
      "outputs": [
        {
          "output_type": "stream",
          "name": "stdout",
          "text": [
            "+-------+-----------------+------------------+-----------------+\n",
            "|summary|        min_value|          duration|   discount_value|\n",
            "+-------+-----------------+------------------+-----------------+\n",
            "|  count|               10|                10|               10|\n",
            "|    min|                0|               3.0|                0|\n",
            "|    max|               20|              10.0|               10|\n",
            "|   mean|              7.7|               6.5|              4.2|\n",
            "| stddev|5.831904586934796|2.3213980461973533|3.583914681524163|\n",
            "+-------+-----------------+------------------+-----------------+\n",
            "\n"
          ]
        }
      ]
    },
    {
      "cell_type": "markdown",
      "source": [
        "> *todas as ofertas usam email, e a maioria é multi-canal.*\n",
        "\n",
        "\n"
      ],
      "metadata": {
        "id": "aB_Ez0kc-DUN"
      }
    },
    {
      "cell_type": "code",
      "source": [
        "from pyspark.sql.functions import explode\n",
        "\n",
        "df_offers.select(explode(\"channels\").alias(\"channel\")).groupBy(\"channel\").count().show()\n"
      ],
      "metadata": {
        "colab": {
          "base_uri": "https://localhost:8080/"
        },
        "id": "cmzmhyoW93Ee",
        "outputId": "e45a7bc8-15d1-406a-fd4d-adf69aa3751d"
      },
      "execution_count": null,
      "outputs": [
        {
          "output_type": "stream",
          "name": "stdout",
          "text": [
            "+-------+-----+\n",
            "|channel|count|\n",
            "+-------+-----+\n",
            "| mobile|    9|\n",
            "|  email|   10|\n",
            "| social|    6|\n",
            "|    web|    8|\n",
            "+-------+-----+\n",
            "\n"
          ]
        }
      ]
    },
    {
      "cell_type": "code",
      "source": [
        "df_offers.filter(\n",
        "    (col(\"offer_type\") == \"informational\") &\n",
        "    ((col(\"discount_value\") > 0) | (col(\"min_value\") > 0))\n",
        ").show()\n"
      ],
      "metadata": {
        "colab": {
          "base_uri": "https://localhost:8080/"
        },
        "id": "xe3Dr_uu-ptS",
        "outputId": "d68a809e-b434-4c63-e78f-6c330addb91d"
      },
      "execution_count": null,
      "outputs": [
        {
          "output_type": "stream",
          "name": "stdout",
          "text": [
            "+--------+--------------+--------+---+---------+----------+\n",
            "|channels|discount_value|duration| id|min_value|offer_type|\n",
            "+--------+--------------+--------+---+---------+----------+\n",
            "+--------+--------------+--------+---+---------+----------+\n",
            "\n"
          ]
        }
      ]
    },
    {
      "cell_type": "markdown",
      "source": [
        "## 1.4. Verificação e tratamento dos valores da `transactions`"
      ],
      "metadata": {
        "id": "UOcqKpKk_ipH"
      }
    },
    {
      "cell_type": "markdown",
      "source": [
        "**Objetivo**\n",
        "- Avaliar como os dados estão se comportando dentro da struc value.\n",
        "- Verificar como cada campo aparece em diferentes tipos de evento.\n",
        "- Se há inconsistências nos IDs (offer_id / _offer_id)\n",
        "- Se existem valores nulos inesperados.\n",
        "\n",
        "**Conclusão**\n",
        "- offer_id é usado nos eventos:\n",
        "  - offer received\n",
        "  - offer viewed\n",
        "- _offer_id é usado exclusivamente no evento offer completed\n",
        "- Aparentemente referem-se à mesma informação (ID da oferta), mas vêm com nomes diferentes dependendo do tipo de evento.\n",
        "- Agora temos uma coluna única para identificar as ofertas em todas as etapas do funil de marketing."
      ],
      "metadata": {
        "id": "3-S4fPuG0clZ"
      }
    },
    {
      "cell_type": "markdown",
      "source": [
        "### 1.4.1. Extração da coluna value para análise"
      ],
      "metadata": {
        "id": "Qb-MfMjGNh8k"
      }
    },
    {
      "cell_type": "code",
      "source": [
        "from pyspark.sql.functions import col\n",
        "\n",
        "df_transactions_flat = df_transactions.withColumn(\"amount\", col(\"value.amount\")) \\\n",
        "    .withColumn(\"reward\", col(\"value.reward\")) \\\n",
        "    .withColumn(\"offer_id\", col(\"value.offer id\")) \\\n",
        "    .withColumn(\"_offer_id\", col(\"value.offer_id\")) \\\n",
        "    .drop(\"value\")\n",
        "\n",
        "df_transactions_flat.groupBy(\"event\").count().show()\n",
        "\n",
        "df_transactions_flat.select(\"event\", \"account_id\", \"offer_id\", \"_offer_id\", \"amount\", \"reward\").show(10, truncate=False)\n"
      ],
      "metadata": {
        "colab": {
          "base_uri": "https://localhost:8080/"
        },
        "id": "aTa79NPSNtww",
        "outputId": "41e354d9-0c00-42d3-e2a8-6b7e18d35b4d"
      },
      "execution_count": 40,
      "outputs": [
        {
          "output_type": "stream",
          "name": "stdout",
          "text": [
            "+---------------+------+\n",
            "|          event| count|\n",
            "+---------------+------+\n",
            "|    transaction|138953|\n",
            "| offer received| 76277|\n",
            "|offer completed| 33579|\n",
            "|   offer viewed| 57725|\n",
            "+---------------+------+\n",
            "\n",
            "+--------------+--------------------------------+--------------------------------+---------+------+------+\n",
            "|event         |account_id                      |offer_id                        |_offer_id|amount|reward|\n",
            "+--------------+--------------------------------+--------------------------------+---------+------+------+\n",
            "|offer received|78afa995795e4d85b5d9ceeca43f5fef|9b98b8c7a33c4b65b9aebfe6a799e6d9|null     |null  |null  |\n",
            "|offer received|a03223e636434f42ac4c3df47e8bac43|0b1e1539f2cc45b7b9fa7c272da2e1d7|null     |null  |null  |\n",
            "|offer received|e2127556f4f64592b11af22de27a7932|2906b810c7d4411798c6938adc9daaa5|null     |null  |null  |\n",
            "|offer received|8ec6ce2a7e7949b1bf142def7d0e0586|fafdcd668e3743c1bb461111dcafc2a4|null     |null  |null  |\n",
            "|offer received|68617ca6246f4fbc85e91a2a49552598|4d5c57ea9a6940dd891ad53e9dbe8da0|null     |null  |null  |\n",
            "|offer received|389bc3fa690240e798340f5a15918d5c|f19421c1d4aa40978ebb69ca19b0e20d|null     |null  |null  |\n",
            "|offer received|c4863c7985cf408faee930f111475da3|2298d6c36e964ae4a3e7e9706d1fb8c2|null     |null  |null  |\n",
            "|offer received|2eeac8d8feae4a8cad5a6af0499a211d|3f207df678b143eea3cee63160fa8bed|null     |null  |null  |\n",
            "|offer received|aa4862eba776480b8bb9c68455b8c2e1|0b1e1539f2cc45b7b9fa7c272da2e1d7|null     |null  |null  |\n",
            "|offer received|31dda685af34476cad5bc968bdb01c53|0b1e1539f2cc45b7b9fa7c272da2e1d7|null     |null  |null  |\n",
            "+--------------+--------------------------------+--------------------------------+---------+------+------+\n",
            "only showing top 10 rows\n",
            "\n"
          ]
        }
      ]
    },
    {
      "cell_type": "markdown",
      "source": [
        "> *A inteção era verificar como esta a distribuição dos ID para cada tipo de evento para considerar um possivel merge entre as colunas ou então outra abordagem*"
      ],
      "metadata": {
        "id": "zZNKVzCuvSDD"
      }
    },
    {
      "cell_type": "code",
      "source": [
        "# Verificar nulos por evento\n",
        "df_transactions_flat.groupBy(\"event\").agg(\n",
        "    count(when(col(\"offer_id\").isNotNull(), 1)).alias(\"offer_id_notnull\"),\n",
        "    count(when(col(\"_offer_id\").isNotNull(), 1)).alias(\"_offer_id_notnull\"),\n",
        "    count(when(col(\"amount\").isNotNull(), 1)).alias(\"amount_notnull\"),\n",
        "    count(when(col(\"reward\").isNotNull(), 1)).alias(\"reward_notnull\")\n",
        ").show()\n",
        "\n",
        "# transaction: Transação realizada pelo cliente (compra comum), realmente nao deveria ter id associado"
      ],
      "metadata": {
        "colab": {
          "base_uri": "https://localhost:8080/"
        },
        "id": "qccP45woXvHS",
        "outputId": "d3a9d5ff-fb02-4627-ef77-2e5e969f7df4"
      },
      "execution_count": 41,
      "outputs": [
        {
          "output_type": "stream",
          "name": "stdout",
          "text": [
            "+---------------+----------------+-----------------+--------------+--------------+\n",
            "|          event|offer_id_notnull|_offer_id_notnull|amount_notnull|reward_notnull|\n",
            "+---------------+----------------+-----------------+--------------+--------------+\n",
            "|    transaction|               0|                0|        138953|             0|\n",
            "| offer received|           76277|                0|             0|             0|\n",
            "|offer completed|               0|            33579|             0|         33579|\n",
            "|   offer viewed|           57725|                0|             0|             0|\n",
            "+---------------+----------------+-----------------+--------------+--------------+\n",
            "\n"
          ]
        }
      ]
    },
    {
      "cell_type": "code",
      "source": [
        "from pyspark.sql.functions import coalesce\n",
        "\n",
        "df_transactions_flat = df_transactions_flat.withColumn(\n",
        "    \"final_offer_id\",\n",
        "    coalesce(col(\"offer_id\"), col(\"_offer_id\"))\n",
        ")\n"
      ],
      "metadata": {
        "id": "VY6T5Bt2v9V_"
      },
      "execution_count": 42,
      "outputs": []
    },
    {
      "cell_type": "markdown",
      "source": [
        "> *Verificando se o merge funcionou e não gerou inconsistencias nos numeros*"
      ],
      "metadata": {
        "id": "q4wg5lkdxyN7"
      }
    },
    {
      "cell_type": "code",
      "source": [
        "from pyspark.sql.functions import count, when\n",
        "\n",
        "df_transactions_flat.groupBy(\"event\").agg(\n",
        "    count(when(col(\"final_offer_id\").isNotNull(), 1)).alias(\"final_offer_id_notnull\"),\n",
        "    count(\"*\").alias(\"total\")\n",
        ").show()\n",
        "\n",
        "\n",
        "# Legal parece promissor considerando que a 10 minutos atras eu estava achando que nao ia ter a menor possibilidade de replicar o filtro ✨\n"
      ],
      "metadata": {
        "colab": {
          "base_uri": "https://localhost:8080/"
        },
        "id": "w6A3fXG3w0gf",
        "outputId": "86b7f0d5-194e-4c21-8156-f5a41e9d841a"
      },
      "execution_count": 43,
      "outputs": [
        {
          "output_type": "stream",
          "name": "stdout",
          "text": [
            "+---------------+----------------------+------+\n",
            "|          event|final_offer_id_notnull| total|\n",
            "+---------------+----------------------+------+\n",
            "|    transaction|                     0|138953|\n",
            "| offer received|                 76277| 76277|\n",
            "|offer completed|                 33579| 33579|\n",
            "|   offer viewed|                 57725| 57725|\n",
            "+---------------+----------------------+------+\n",
            "\n"
          ]
        }
      ]
    },
    {
      "cell_type": "markdown",
      "source": [
        "### 1.4.1. Analise de outliers"
      ],
      "metadata": {
        "id": "Vi6d-s0PADUd"
      }
    },
    {
      "cell_type": "markdown",
      "source": [
        "**Objetivo**\n",
        "- Verificar se tem compra fora da realidade ou recompensa \"generosa demais\".\n",
        "\n",
        "\n",
        "**Conclusão**\n",
        "- Existem valores bem baixos com relação ao amount (va­lor da tran­sa­ção)\n",
        "  - Porem aparente ser uma distribuição contínua e bem povoada entre 0.05 e 0.99\n",
        "  - Frequência consistente (maioria entre 100–160 ocorrências por valor)\n",
        "- Se fosse ruído, esperaria algo como:\n",
        "  - Frequência muito baixa (ex: 1 ou 2 ocorrências)\n",
        "  - Valores aleatórios não consecutivos\n",
        "\n",
        "- Em contrapartida, parece ter uma distribuição assimétrica e enviesada para a esquerda com altos valores de transações\n",
        "  - Eles não são necessariamente outliers errados, podendo ser casos de exceção real\n",
        "  - Até 20, temos milhares de registros por valor.\n",
        "  - De 21 a 40, o volume vai diminuindo de forma contínua.\n",
        "  - A partir de 41, temos menos de 150 registros por valor.\n",
        "  - Depois de 50, os valores ocorrem com frequência extremamente baixa (em geral, menos de 10 registros por valor).\n",
        "\n",
        "- `reward` esta bem distribuido.\n",
        "\n"
      ],
      "metadata": {
        "id": "GHwTMfSm0ty_"
      }
    },
    {
      "cell_type": "code",
      "source": [
        "df_transactions_flat.select(\"amount\").summary(\"count\", \"min\", \"max\", \"mean\", \"stddev\").show()\n",
        "df_transactions_flat.select(\"reward\").summary(\"count\", \"min\", \"max\", \"mean\", \"stddev\").show()"
      ],
      "metadata": {
        "colab": {
          "base_uri": "https://localhost:8080/"
        },
        "id": "dZ3wPAKA6c6A",
        "outputId": "21c131b4-7488-4431-8565-17c72cd608f1"
      },
      "execution_count": 47,
      "outputs": [
        {
          "output_type": "stream",
          "name": "stdout",
          "text": [
            "+-------+------------------+\n",
            "|summary|            amount|\n",
            "+-------+------------------+\n",
            "|  count|            138953|\n",
            "|    min|              0.05|\n",
            "|    max|           1062.28|\n",
            "|   mean| 12.77735615639814|\n",
            "| stddev|30.250528632017126|\n",
            "+-------+------------------+\n",
            "\n",
            "+-------+------------------+\n",
            "|summary|            reward|\n",
            "+-------+------------------+\n",
            "|  count|             33579|\n",
            "|    min|               2.0|\n",
            "|    max|              10.0|\n",
            "|   mean| 4.904136513892611|\n",
            "| stddev|2.8866468823372804|\n",
            "+-------+------------------+\n",
            "\n"
          ]
        }
      ]
    },
    {
      "cell_type": "markdown",
      "source": [
        "> *A mediana esta sendo puxada muito pra baixo. E temos um valor maximo muito alto*"
      ],
      "metadata": {
        "id": "jaa3TbFo_5gs"
      }
    },
    {
      "cell_type": "code",
      "source": [
        "from pyspark.sql.functions import col, round\n",
        "\n",
        "# Arredonda os valores de amount pra facilitar análise\n",
        "df_valores_agrupados = df_transactions_flat \\\n",
        "    .withColumn(\"amount_rounded\", round(col(\"amount\"), 0)) \\\n",
        "    .groupBy(\"amount_rounded\") \\\n",
        "    .count() \\\n",
        "    .orderBy(\"amount_rounded\")\n",
        "\n",
        "df_valores_agrupados.show(100)\n"
      ],
      "metadata": {
        "colab": {
          "base_uri": "https://localhost:8080/"
        },
        "id": "QfQV9bjwCflj",
        "outputId": "43647970-e38f-4146-a8a5-5146f4fd12a0"
      },
      "execution_count": 63,
      "outputs": [
        {
          "output_type": "stream",
          "name": "stdout",
          "text": [
            "+--------------+------+\n",
            "|amount_rounded| count|\n",
            "+--------------+------+\n",
            "|          null|167581|\n",
            "|           0.0|  5605|\n",
            "|           1.0| 14086|\n",
            "|           2.0| 12146|\n",
            "|           3.0|  9606|\n",
            "|           4.0|  7459|\n",
            "|           5.0|  5928|\n",
            "|           6.0|  4826|\n",
            "|           7.0|  4344|\n",
            "|           8.0|  3953|\n",
            "|           9.0|  3822|\n",
            "|          10.0|  3832|\n",
            "|          11.0|  3810|\n",
            "|          12.0|  3877|\n",
            "|          13.0|  3845|\n",
            "|          14.0|  3880|\n",
            "|          15.0|  3801|\n",
            "|          16.0|  3794|\n",
            "|          17.0|  3625|\n",
            "|          18.0|  3492|\n",
            "|          19.0|  3401|\n",
            "|          20.0|  3085|\n",
            "|          21.0|  3024|\n",
            "|          22.0|  2795|\n",
            "|          23.0|  2548|\n",
            "|          24.0|  2368|\n",
            "|          25.0|  2118|\n",
            "|          26.0|  1899|\n",
            "|          27.0|  1757|\n",
            "|          28.0|  1498|\n",
            "|          29.0|  1274|\n",
            "|          30.0|  1145|\n",
            "|          31.0|   933|\n",
            "|          32.0|   825|\n",
            "|          33.0|   730|\n",
            "|          34.0|   594|\n",
            "|          35.0|   490|\n",
            "|          36.0|   412|\n",
            "|          37.0|   351|\n",
            "|          38.0|   273|\n",
            "|          39.0|   214|\n",
            "|          40.0|   191|\n",
            "|          41.0|   128|\n",
            "|          42.0|   109|\n",
            "|          43.0|    90|\n",
            "|          44.0|    71|\n",
            "|          45.0|    57|\n",
            "|          46.0|    38|\n",
            "|          47.0|    41|\n",
            "|          48.0|    26|\n",
            "|          49.0|    17|\n",
            "|          50.0|    28|\n",
            "|          51.0|    12|\n",
            "|          52.0|     6|\n",
            "|          53.0|    11|\n",
            "|          54.0|     4|\n",
            "|          55.0|     8|\n",
            "|          56.0|     2|\n",
            "|          57.0|     5|\n",
            "|          58.0|     3|\n",
            "|          59.0|     3|\n",
            "|          60.0|     2|\n",
            "|          61.0|     7|\n",
            "|          62.0|     4|\n",
            "|          63.0|     4|\n",
            "|          64.0|     1|\n",
            "|          65.0|     8|\n",
            "|          66.0|     3|\n",
            "|          67.0|     5|\n",
            "|          68.0|     4|\n",
            "|          69.0|     5|\n",
            "|          70.0|     4|\n",
            "|          71.0|     4|\n",
            "|          72.0|     4|\n",
            "|          73.0|     3|\n",
            "|          74.0|     4|\n",
            "|          75.0|     5|\n",
            "|          76.0|     3|\n",
            "|          77.0|     3|\n",
            "|          78.0|     6|\n",
            "|          79.0|     4|\n",
            "|          80.0|     3|\n",
            "|          81.0|     7|\n",
            "|          82.0|     7|\n",
            "|          83.0|     6|\n",
            "|          84.0|     2|\n",
            "|          85.0|     7|\n",
            "|          86.0|     2|\n",
            "|          87.0|     1|\n",
            "|          88.0|     7|\n",
            "|          89.0|     3|\n",
            "|          90.0|     3|\n",
            "|          91.0|     5|\n",
            "|          92.0|     4|\n",
            "|          93.0|     7|\n",
            "|          94.0|     1|\n",
            "|          95.0|     2|\n",
            "|          96.0|     2|\n",
            "|          97.0|     4|\n",
            "|          98.0|     1|\n",
            "+--------------+------+\n",
            "only showing top 100 rows\n",
            "\n"
          ]
        }
      ]
    },
    {
      "cell_type": "code",
      "source": [
        "df_transactions_flat.filter(col(\"amount\") < 1).groupBy(\"amount\").count().orderBy(\"amount\").show(100)\n"
      ],
      "metadata": {
        "colab": {
          "base_uri": "https://localhost:8080/"
        },
        "collapsed": true,
        "id": "cj8y7Ji4909Y",
        "outputId": "c4cb1a05-e715-47b5-cbe7-17ce212cb953"
      },
      "execution_count": 57,
      "outputs": [
        {
          "output_type": "stream",
          "name": "stdout",
          "text": [
            "+------+-----+\n",
            "|amount|count|\n",
            "+------+-----+\n",
            "|  0.05|  431|\n",
            "|  0.06|  109|\n",
            "|  0.07|   89|\n",
            "|  0.08|  100|\n",
            "|  0.09|   87|\n",
            "|   0.1|   95|\n",
            "|  0.11|   99|\n",
            "|  0.12|   79|\n",
            "|  0.13|   97|\n",
            "|  0.14|  110|\n",
            "|  0.15|  110|\n",
            "|  0.16|  108|\n",
            "|  0.17|  113|\n",
            "|  0.18|  108|\n",
            "|  0.19|  109|\n",
            "|   0.2|  105|\n",
            "|  0.21|  119|\n",
            "|  0.22|  120|\n",
            "|  0.23|  123|\n",
            "|  0.24|  118|\n",
            "|  0.25|   96|\n",
            "|  0.26|  128|\n",
            "|  0.27|  117|\n",
            "|  0.28|  120|\n",
            "|  0.29|  122|\n",
            "|   0.3|  126|\n",
            "|  0.31|  116|\n",
            "|  0.32|  111|\n",
            "|  0.33|  112|\n",
            "|  0.34|   98|\n",
            "|  0.35|  130|\n",
            "|  0.36|  148|\n",
            "|  0.37|  126|\n",
            "|  0.38|  127|\n",
            "|  0.39|  128|\n",
            "|   0.4|  140|\n",
            "|  0.41|  136|\n",
            "|  0.42|  134|\n",
            "|  0.43|  142|\n",
            "|  0.44|  138|\n",
            "|  0.45|  121|\n",
            "|  0.46|  146|\n",
            "|  0.47|  133|\n",
            "|  0.48|  143|\n",
            "|  0.49|  138|\n",
            "|   0.5|  159|\n",
            "|  0.51|  141|\n",
            "|  0.52|  136|\n",
            "|  0.53|  159|\n",
            "|  0.54|  129|\n",
            "|  0.55|  147|\n",
            "|  0.56|  134|\n",
            "|  0.57|  143|\n",
            "|  0.58|  131|\n",
            "|  0.59|  147|\n",
            "|   0.6|  144|\n",
            "|  0.61|  126|\n",
            "|  0.62|  123|\n",
            "|  0.63|  142|\n",
            "|  0.64|  145|\n",
            "|  0.65|  152|\n",
            "|  0.66|  166|\n",
            "|  0.67|  152|\n",
            "|  0.68|  142|\n",
            "|  0.69|  146|\n",
            "|   0.7|  154|\n",
            "|  0.71|  117|\n",
            "|  0.72|  140|\n",
            "|  0.73|  128|\n",
            "|  0.74|  154|\n",
            "|  0.75|  145|\n",
            "|  0.76|  149|\n",
            "|  0.77|  130|\n",
            "|  0.78|  140|\n",
            "|  0.79|  157|\n",
            "|   0.8|  136|\n",
            "|  0.81|  133|\n",
            "|  0.82|  148|\n",
            "|  0.83|  138|\n",
            "|  0.84|  152|\n",
            "|  0.85|  140|\n",
            "|  0.86|  150|\n",
            "|  0.87|  148|\n",
            "|  0.88|  134|\n",
            "|  0.89|  130|\n",
            "|   0.9|  161|\n",
            "|  0.91|  150|\n",
            "|  0.92|  156|\n",
            "|  0.93|  143|\n",
            "|  0.94|  152|\n",
            "|  0.95|  126|\n",
            "|  0.96|  131|\n",
            "|  0.97|  133|\n",
            "|  0.98|  131|\n",
            "|  0.99|  140|\n",
            "+------+-----+\n",
            "\n"
          ]
        }
      ]
    },
    {
      "cell_type": "code",
      "source": [
        "lim_amount = calcular_outliers(df_transactions_flat, \"amount\")\n",
        "lim_reward = calcular_outliers(df_transactions_flat, \"reward\")\n"
      ],
      "metadata": {
        "colab": {
          "base_uri": "https://localhost:8080/"
        },
        "id": "etZb-ned7VVP",
        "outputId": "aa60092b-3a8b-4c43-b22d-679d0f7c3938"
      },
      "execution_count": 48,
      "outputs": [
        {
          "output_type": "stream",
          "name": "stdout",
          "text": [
            "📌 AMOUNT\n",
            "Q1: 2.69, Q3: 18.08, IQR: 15.389999999999999\n",
            "Limite inferior: -20.394999999999996, Limite superior: 41.16499999999999\n",
            "📌 REWARD\n",
            "Q1: 2.0, Q3: 5.0, IQR: 3.0\n",
            "Limite inferior: -2.5, Limite superior: 9.5\n"
          ]
        }
      ]
    },
    {
      "cell_type": "code",
      "source": [
        "from pyspark.sql.functions import col, round\n",
        "\n",
        "# Arredonda os valores de amount pra facilitar análise\n",
        "df_valores_agrupados = df_transactions_flat \\\n",
        "    .withColumn(\"amount_rounded\", round(col(\"amount\"), 0)) \\\n",
        "    .groupBy(\"amount_rounded\") \\\n",
        "    .count() \\\n",
        "    .orderBy(\"amount_rounded\")\n",
        "\n",
        "df_valores_agrupados.show(100)\n"
      ],
      "metadata": {
        "id": "M3VoJ91iDMHE"
      },
      "execution_count": null,
      "outputs": []
    },
    {
      "cell_type": "code",
      "source": [
        "from pyspark.sql.functions import col, round\n",
        "\n",
        "# Arredonda os valores de reward pra facilitar análise\n",
        "df_valores_agrupados = df_transactions_flat \\\n",
        "    .withColumn(\"reward_rounded\", round(col(\"reward\"), 0)) \\\n",
        "    .groupBy(\"reward_rounded\") \\\n",
        "    .count() \\\n",
        "    .orderBy(\"reward_rounded\")\n",
        "\n",
        "df_valores_agrupados.show(100)\n"
      ],
      "metadata": {
        "colab": {
          "base_uri": "https://localhost:8080/"
        },
        "id": "AwcN8lisDTP9",
        "outputId": "484856f4-b6ce-4edf-ff16-5defc071f9e9"
      },
      "execution_count": 64,
      "outputs": [
        {
          "output_type": "stream",
          "name": "stdout",
          "text": [
            "+--------------+------+\n",
            "|reward_rounded| count|\n",
            "+--------------+------+\n",
            "|          null|272955|\n",
            "|           2.0|  9334|\n",
            "|           3.0|  5156|\n",
            "|           5.0| 12070|\n",
            "|          10.0|  7019|\n",
            "+--------------+------+\n",
            "\n"
          ]
        }
      ]
    },
    {
      "cell_type": "code",
      "source": [
        "df_transactions_flat.show(5)"
      ],
      "metadata": {
        "colab": {
          "base_uri": "https://localhost:8080/"
        },
        "id": "y4vW0RLRDj92",
        "outputId": "20901f43-3ce7-4ee4-e912-421292baba92"
      },
      "execution_count": 66,
      "outputs": [
        {
          "output_type": "stream",
          "name": "stdout",
          "text": [
            "+--------------------+--------------+---------------------+------+------+--------------------+---------+--------------------+\n",
            "|          account_id|         event|time_since_test_start|amount|reward|            offer_id|_offer_id|      final_offer_id|\n",
            "+--------------------+--------------+---------------------+------+------+--------------------+---------+--------------------+\n",
            "|78afa995795e4d85b...|offer received|                  0.0|  null|  null|9b98b8c7a33c4b65b...|     null|9b98b8c7a33c4b65b...|\n",
            "|a03223e636434f42a...|offer received|                  0.0|  null|  null|0b1e1539f2cc45b7b...|     null|0b1e1539f2cc45b7b...|\n",
            "|e2127556f4f64592b...|offer received|                  0.0|  null|  null|2906b810c7d441179...|     null|2906b810c7d441179...|\n",
            "|8ec6ce2a7e7949b1b...|offer received|                  0.0|  null|  null|fafdcd668e3743c1b...|     null|fafdcd668e3743c1b...|\n",
            "|68617ca6246f4fbc8...|offer received|                  0.0|  null|  null|4d5c57ea9a6940dd8...|     null|4d5c57ea9a6940dd8...|\n",
            "+--------------------+--------------+---------------------+------+------+--------------------+---------+--------------------+\n",
            "only showing top 5 rows\n",
            "\n"
          ]
        }
      ]
    },
    {
      "cell_type": "markdown",
      "source": [
        "# 2. Enriquecimento da tabela `df_transactions_flat` com a `df_offers`"
      ],
      "metadata": {
        "id": "M8a96mr_yR4A"
      }
    },
    {
      "cell_type": "markdown",
      "source": [
        "**Objetivo**\n",
        "- Enriquecer os eventos transacionais com os dados da oferta (tipo, valor, canal, duração, etc).\n",
        "- Verificar se os valores cruzados fazem sentido.\n",
        "- Entender qual tipo de oferta foi recebida, completada ou visualizada.\n",
        "- Calcular taxas de sucesso por tipo de cupom, canal ou perfil de cliente.\n",
        "\n",
        "**Conclusão**\n",
        "- há perda de conversão ao longo do funil. Nem todos que recebem a oferta visualizam, e menos ainda completam."
      ],
      "metadata": {
        "id": "BZ9O1hbrygls"
      }
    },
    {
      "cell_type": "markdown",
      "source": [
        "## 2.1. Verificar se todos os final_offer_id estão presentes na tabela offers"
      ],
      "metadata": {
        "id": "F7HbOD9BEJ1I"
      }
    },
    {
      "cell_type": "code",
      "source": [
        "ids_transactions = df_transactions_flat.select(\"final_offer_id\").distinct()\n",
        "ids_offers = df_offers.select(col(\"id\").alias(\"offer_id\")).distinct()\n",
        "\n",
        "ids_not_matched = ids_transactions.join(\n",
        "    ids_offers,\n",
        "    ids_transactions.final_offer_id == ids_offers.offer_id,\n",
        "    how=\"left_anti\"\n",
        ")\n",
        "\n",
        "ids_not_matched.show()\n"
      ],
      "metadata": {
        "colab": {
          "base_uri": "https://localhost:8080/"
        },
        "id": "cqk0enLvENfb",
        "outputId": "e0cffa3c-acd5-4ffd-c659-9e9e6ebddbc7"
      },
      "execution_count": 82,
      "outputs": [
        {
          "output_type": "stream",
          "name": "stdout",
          "text": [
            "+--------------+\n",
            "|final_offer_id|\n",
            "+--------------+\n",
            "|          null|\n",
            "+--------------+\n",
            "\n"
          ]
        }
      ]
    },
    {
      "cell_type": "markdown",
      "source": [
        "> *Join entre transações e ofertas com base no ID final da oferta*"
      ],
      "metadata": {
        "id": "yuxogNXIHv_F"
      }
    },
    {
      "cell_type": "code",
      "source": [
        "# Renomeando a coluna 'id' da tabela de ofertas para evitar conflito\n",
        "df_offers_renamed = df_offers.withColumnRenamed(\"id\", \"offer_metadata_id\")\n",
        "\n",
        "df_joined = df_transactions_flat.join(\n",
        "    df_offers_renamed,\n",
        "    df_transactions_flat.final_offer_id == df_offers_renamed.offer_metadata_id,\n",
        "    how=\"left\"\n",
        ")\n"
      ],
      "metadata": {
        "id": "hmUbVi9QydBF"
      },
      "execution_count": 92,
      "outputs": []
    },
    {
      "cell_type": "code",
      "source": [
        "df_joined.select(\n",
        "    \"event\", \"final_offer_id\", \"offer_type\", \"discount_value\", \"channels\", \"min_value\"\n",
        ").where(\"final_offer_id IS NOT NULL\").show(10, truncate=False)\n"
      ],
      "metadata": {
        "colab": {
          "base_uri": "https://localhost:8080/"
        },
        "id": "0I-YLM3Ry47n",
        "outputId": "48054813-d986-4f0a-cf14-5c8bfffbb30c"
      },
      "execution_count": 93,
      "outputs": [
        {
          "output_type": "stream",
          "name": "stdout",
          "text": [
            "+--------------+--------------------------------+-------------+--------------+----------------------------+---------+\n",
            "|event         |final_offer_id                  |offer_type   |discount_value|channels                    |min_value|\n",
            "+--------------+--------------------------------+-------------+--------------+----------------------------+---------+\n",
            "|offer received|9b98b8c7a33c4b65b9aebfe6a799e6d9|bogo         |5             |[web, email, mobile]        |5        |\n",
            "|offer received|0b1e1539f2cc45b7b9fa7c272da2e1d7|discount     |5             |[web, email]                |20       |\n",
            "|offer received|2906b810c7d4411798c6938adc9daaa5|discount     |2             |[web, email, mobile]        |10       |\n",
            "|offer received|fafdcd668e3743c1bb461111dcafc2a4|discount     |2             |[web, email, mobile, social]|10       |\n",
            "|offer received|4d5c57ea9a6940dd891ad53e9dbe8da0|bogo         |10            |[web, email, mobile, social]|10       |\n",
            "|offer received|f19421c1d4aa40978ebb69ca19b0e20d|bogo         |5             |[web, email, mobile, social]|5        |\n",
            "|offer received|2298d6c36e964ae4a3e7e9706d1fb8c2|discount     |3             |[web, email, mobile, social]|7        |\n",
            "|offer received|3f207df678b143eea3cee63160fa8bed|informational|0             |[web, email, mobile]        |0        |\n",
            "|offer received|0b1e1539f2cc45b7b9fa7c272da2e1d7|discount     |5             |[web, email]                |20       |\n",
            "|offer received|0b1e1539f2cc45b7b9fa7c272da2e1d7|discount     |5             |[web, email]                |20       |\n",
            "+--------------+--------------------------------+-------------+--------------+----------------------------+---------+\n",
            "only showing top 10 rows\n",
            "\n"
          ]
        }
      ]
    },
    {
      "cell_type": "markdown",
      "source": [
        "## 2.2. Validar o Join com offers"
      ],
      "metadata": {
        "id": "mJ8NG2X4KbqR"
      }
    },
    {
      "cell_type": "markdown",
      "source": [
        "> *Ter certeza de que todos os 10 IDs únicos de oferta foram integrados corretamente após o merge*"
      ],
      "metadata": {
        "id": "WQcQM7mYKvWK"
      }
    },
    {
      "cell_type": "code",
      "source": [
        "# Valida se todos os final_offer_id conseguiram fazer join com dados da tabela offers\n",
        "df_joined.select(\"final_offer_id\").distinct().count(), df_offers.select(\"id\").distinct().count()\n"
      ],
      "metadata": {
        "colab": {
          "base_uri": "https://localhost:8080/"
        },
        "id": "v7H3Jc6BJft1",
        "outputId": "56cd8078-4148-49dd-c259-7e8019756c54"
      },
      "execution_count": 94,
      "outputs": [
        {
          "output_type": "execute_result",
          "data": {
            "text/plain": [
              "(11, 10)"
            ]
          },
          "metadata": {},
          "execution_count": 94
        }
      ]
    },
    {
      "cell_type": "markdown",
      "source": [
        "## 2.3. Contar quantos eventos foram enriquecidos por tipo"
      ],
      "metadata": {
        "id": "5OwDLO7hKZ8Z"
      }
    },
    {
      "cell_type": "markdown",
      "source": [
        "> *Confirma se o merge respeitou a lógica dos eventos que possuem offer_id original*"
      ],
      "metadata": {
        "id": "B9GgifgxK2kV"
      }
    },
    {
      "cell_type": "code",
      "source": [
        "# Conta eventos com informações completas por tipo\n",
        "df_joined.filter(col(\"final_offer_id\").isNotNull()) \\\n",
        "    .groupBy(\"event\").count().show()\n"
      ],
      "metadata": {
        "colab": {
          "base_uri": "https://localhost:8080/"
        },
        "id": "u5WbWj_XJqQe",
        "outputId": "01c46f01-19b7-4226-a9f1-1bb1554c1aa5"
      },
      "execution_count": 95,
      "outputs": [
        {
          "output_type": "stream",
          "name": "stdout",
          "text": [
            "+---------------+-----+\n",
            "|          event|count|\n",
            "+---------------+-----+\n",
            "| offer received|76277|\n",
            "|offer completed|33579|\n",
            "|   offer viewed|57725|\n",
            "+---------------+-----+\n",
            "\n"
          ]
        }
      ]
    },
    {
      "cell_type": "markdown",
      "source": [
        "## 2.4. Análise exploratória dos canais por tipo de oferta"
      ],
      "metadata": {
        "id": "pyz39ikkKW2i"
      }
    },
    {
      "cell_type": "markdown",
      "source": [
        "> *pode revelar estratégias de veiculação por tipo de campanha (e.g., será que informational usa menos canais que bogo?)*"
      ],
      "metadata": {
        "id": "L_eOSC1kK4eA"
      }
    },
    {
      "cell_type": "code",
      "source": [
        "from pyspark.sql.functions import size\n",
        "\n",
        "df_joined = df_joined.withColumn(\"channel_count\", size(col(\"channels\")))\n",
        "\n",
        "# Analisar média de canais por tipo de oferta\n",
        "df_joined.filter(col(\"final_offer_id\").isNotNull()) \\\n",
        "    .groupBy(\"offer_type\") \\\n",
        "    .agg(\n",
        "        count(\"*\").alias(\"total\"),\n",
        "        avg(\"channel_count\").alias(\"avg_channel_count\"),\n",
        "        expr(\"percentile(channel_count, array(0.25, 0.5, 0.75))\").alias(\"channel_count_percentiles\")\n",
        "    ).show(truncate=False)\n"
      ],
      "metadata": {
        "colab": {
          "base_uri": "https://localhost:8080/"
        },
        "id": "PdvO1sBpJxd4",
        "outputId": "72ca271b-0fb7-4c79-d1a2-b8642ab28cd3"
      },
      "execution_count": 100,
      "outputs": [
        {
          "output_type": "stream",
          "name": "stdout",
          "text": [
            "+-------------+-----+------------------+-------------------------+\n",
            "|offer_type   |total|avg_channel_count |channel_count_percentiles|\n",
            "+-------------+-----+------------------+-------------------------+\n",
            "|discount     |69898|3.3809694125726057|[3.0, 4.0, 4.0]          |\n",
            "|informational|26066|3.0               |[3.0, 3.0, 3.0]          |\n",
            "|bogo         |71617|3.521566108605499 |[3.0, 4.0, 4.0]          |\n",
            "+-------------+-----+------------------+-------------------------+\n",
            "\n"
          ]
        }
      ]
    },
    {
      "cell_type": "markdown",
      "source": [
        "## 2.5. Análise de discount_value e min_value por tipo de oferta"
      ],
      "metadata": {
        "id": "_TYMAhJ-KPVY"
      }
    },
    {
      "cell_type": "markdown",
      "source": [
        "> *Pode revelar, por exemplo, que bogo exige compras maiores, mas tem desconto maior*\n",
        "\n",
        "- discount: desconto médio de ~2,88 e min_value médio de ~11,10\n",
        "- bogo: desconto e min_value iguais (~7,53), pois esse tipo exige gasto para ativar.\n",
        "- informational: ambos os valores são 0, já que são apenas comunicados, sem incentivo financeiro.\n",
        "\n",
        "**Hipótese**\n",
        "- valores mínimos mais altos podem impactar negativamente a taxa de conversão em grupos menos engajados."
      ],
      "metadata": {
        "id": "daTN_qutK_bp"
      }
    },
    {
      "cell_type": "code",
      "source": [
        "\n",
        "df_joined.filter(col(\"final_offer_id\").isNotNull()) \\\n",
        "    .groupBy(\"offer_type\") \\\n",
        "    .agg(\n",
        "        avg(\"discount_value\").alias(\"avg_discount\"),\n",
        "        avg(\"min_value\").alias(\"avg_min_value\"),\n",
        "        expr(\"percentile(min_value, array(0.25, 0.5, 0.75))\").alias(\"min_value_percentiles\")\n",
        "    ).show(truncate=False)\n"
      ],
      "metadata": {
        "colab": {
          "base_uri": "https://localhost:8080/"
        },
        "id": "1WwN1wwcKJXI",
        "outputId": "438390f5-8102-4449-e741-47d9c754d536"
      },
      "execution_count": 101,
      "outputs": [
        {
          "output_type": "stream",
          "name": "stdout",
          "text": [
            "+-------------+-----------------+------------------+---------------------+\n",
            "|offer_type   |avg_discount     |avg_min_value     |min_value_percentiles|\n",
            "+-------------+-----------------+------------------+---------------------+\n",
            "|discount     |2.878308392228676|11.102935706314916|[7.0, 10.0, 10.0]    |\n",
            "|informational|0.0              |0.0               |[0.0, 0.0, 0.0]      |\n",
            "|bogo         |7.533197425192343|7.533197425192343 |[5.0, 10.0, 10.0]    |\n",
            "+-------------+-----------------+------------------+---------------------+\n",
            "\n"
          ]
        }
      ]
    },
    {
      "cell_type": "markdown",
      "source": [
        "# 3. Enriquecimento da tabela `df_joined` com a `df_customers_clean `"
      ],
      "metadata": {
        "id": "Z8avsBt-S4p-"
      }
    },
    {
      "cell_type": "markdown",
      "source": [
        "**Objetivo**\n",
        "\n",
        "- Analisar se existem taxas de conversão por faixa etária ou limite de cartão.\n",
        "- análise de uso de canais por perfil.\n",
        "- segmentações mais eficientes para o modelo ou estratégias.\n",
        "\n",
        "\n",
        "**Conclusão**\n",
        "\n",
        "- cerca de 12,8% dos clientes ativos não têm dados demográficos disponíveis. Podemos considerar excluir esses registros de análises que dependam de atributos do cliente (como idade ou limite), ou tratá-los separadamente caso façam parte de outra estratégia (cold start)"
      ],
      "metadata": {
        "id": "iWre5-PuTobI"
      }
    },
    {
      "cell_type": "code",
      "source": [
        "df_customers_clean = df_customers_clean.withColumnRenamed(\"id\", \"customer_id\")\n",
        "\n",
        "df_final = df_joined.join(\n",
        "    df_customers_clean,\n",
        "    df_joined.account_id == df_customers_clean.customer_id,\n",
        "    how=\"left\"\n",
        ")\n"
      ],
      "metadata": {
        "id": "wmRZ-Et-ThVD"
      },
      "execution_count": 103,
      "outputs": []
    },
    {
      "cell_type": "markdown",
      "source": [
        "## 3.1. Verificar se todos os customer_id foram encontrados"
      ],
      "metadata": {
        "id": "V_RNW5apUcBJ"
      }
    },
    {
      "cell_type": "code",
      "source": [
        "clientes_ativos = df_joined.select(\"account_id\").distinct().count()\n",
        "clientes_ativos\n"
      ],
      "metadata": {
        "colab": {
          "base_uri": "https://localhost:8080/"
        },
        "id": "bIE7EYm_Ufvv",
        "outputId": "d6e5249e-ddc8-401f-8dd8-a54c9c6c5fb8"
      },
      "execution_count": 107,
      "outputs": [
        {
          "output_type": "execute_result",
          "data": {
            "text/plain": [
              "17000"
            ]
          },
          "metadata": {},
          "execution_count": 107
        }
      ]
    },
    {
      "cell_type": "markdown",
      "source": [
        "## 3.2. Verificar quantos desses clientes receberam dados no df_final"
      ],
      "metadata": {
        "id": "Y9G6Dl1OVpD0"
      }
    },
    {
      "cell_type": "code",
      "source": [
        "clientes_com_dados = df_final.filter(col(\"age\").isNotNull()).select(\"account_id\").distinct().count()\n",
        "print(f\"Clientes com dados completos (df_final): {clientes_com_dados}\")\n"
      ],
      "metadata": {
        "colab": {
          "base_uri": "https://localhost:8080/"
        },
        "id": "c9DjwCMYVccX",
        "outputId": "e2fc7b5b-a878-4d3e-9d99-1d17a09b857a"
      },
      "execution_count": 106,
      "outputs": [
        {
          "output_type": "stream",
          "name": "stdout",
          "text": [
            "Clientes com dados completos (df_final): 14825\n"
          ]
        }
      ]
    },
    {
      "cell_type": "markdown",
      "source": [
        "# 4. Análises rapidas do comportamento dos clientes"
      ],
      "metadata": {
        "id": "yqeRyQPUYWGA"
      }
    },
    {
      "cell_type": "code",
      "source": [
        "df_behavior = df_final.groupBy(\"account_id\") \\\n",
        "    .pivot(\"event\", [\"offer completed\", \"offer received\", \"offer viewed\", \"transaction\"]) \\\n",
        "    .count() \\\n",
        "    .fillna(0)\n"
      ],
      "metadata": {
        "id": "-2XVEEE7X5qt"
      },
      "execution_count": 119,
      "outputs": []
    },
    {
      "cell_type": "markdown",
      "source": [
        "## 4.1. Taxa de visualização e conclusão por cliente"
      ],
      "metadata": {
        "id": "HfSWKcHiZgYg"
      }
    },
    {
      "cell_type": "markdown",
      "source": [
        "> **Hipótese 1:** *agrupar clientes com comportamento ideal de engajamento e usar esse grupo como benchmark para entender o que eles têm em comum: idade, limite de cartão, canal preferido, tipo de oferta etc.*\n",
        "\n",
        "> **Hipótese 2:** *clientes com view_rate alta e completion_rate baixa. Pode indicar que as ofertas não eram atraentes mesmo sendo vistas. Talvez o valor mínimo era alto demais para o perfil do cliente.*\n",
        "> - \"Mesmo clientes que visualizam as ofertas não estão completando algumas campanhas — nossa proposta inclui adaptar o valor mínimo por perfil de consumo.\"\n",
        "\n",
        "> **Hipótese 3:** *Analisar se quem mais completa ofertas também transaciona mais. indicando que o cupom não apenas atrai, mas fideliza ou aumenta volume de compras.*\n",
        "\n",
        "> **Hipótese 3:** *talvez uma simples regra baseada nesses indicadores para definir grupos como:*\n",
        "\n",
        "| Segmento             | Critério                                    |\n",
        "| -------------------- | ------------------------------------------- |\n",
        "| Engajado             | `view_rate` > 0.8 e `completion_rate` > 0.8 |\n",
        "| Visualizador passivo | `view_rate` > 0.8 e `completion_rate` < 0.5 |\n",
        "| Desconectado         | `view_rate` < 0.5                           |\n",
        "\n",
        "\n",
        "*Ex: Dos 17 mil clientes, 68% visualizam ao menos uma oferta e 48% chegam a concluir. Porém, apenas 33% fazem isso de forma consistente. Nossa proposta é aumentar essa taxa com segmentações mais direcionadas.*"
      ],
      "metadata": {
        "id": "TznlbGLDbSXh"
      }
    },
    {
      "cell_type": "code",
      "source": [
        "from pyspark.sql.functions import col, when, round\n",
        "\n",
        "df_behavior = df_behavior \\\n",
        "    .withColumn(\"view_rate\", round(col(\"offer viewed\") / when(col(\"offer received\") > 0, col(\"offer received\")), 2)) \\\n",
        "    .withColumn(\"completion_rate\", round(col(\"offer completed\") / when(col(\"offer viewed\") > 0, col(\"offer viewed\")), 2))\n"
      ],
      "metadata": {
        "id": "rorrZzFVZiP_"
      },
      "execution_count": 121,
      "outputs": []
    },
    {
      "cell_type": "code",
      "source": [
        "df_behavior.show()"
      ],
      "metadata": {
        "colab": {
          "base_uri": "https://localhost:8080/"
        },
        "id": "ZvD4rf5aaTmj",
        "outputId": "5993f098-7ca8-44b7-f5c6-1adb32752c4c"
      },
      "execution_count": 122,
      "outputs": [
        {
          "output_type": "stream",
          "name": "stdout",
          "text": [
            "+--------------------+---------------+--------------+------------+-----------+---------+---------------+\n",
            "|          account_id|offer completed|offer received|offer viewed|transaction|view_rate|completion_rate|\n",
            "+--------------------+---------------+--------------+------------+-----------+---------+---------------+\n",
            "|8ca462f1192b4aa29...|              0|             4|           3|         13|     0.75|            0.0|\n",
            "|5abe3df001c14294a...|              4|             5|           5|         10|      1.0|            0.8|\n",
            "|5e0cac0673884c67b...|              0|             4|           2|          8|      0.5|            0.0|\n",
            "|74450de8dc654737b...|              1|             2|           2|          4|      1.0|            0.5|\n",
            "|d3c24fa42d0947a4b...|              3|             4|           2|         15|      0.5|            1.5|\n",
            "|dd1069bbc7ef423c9...|              1|             6|           5|         19|     0.83|            0.2|\n",
            "|b3d1075ec03c4c188...|              4|             4|           4|          5|      1.0|            1.0|\n",
            "|54e7916b52204385a...|              2|             3|           3|          9|      1.0|           0.67|\n",
            "|f6c178ca2b1847d6b...|              5|             5|           5|          6|      1.0|            1.0|\n",
            "|f608dc84f5f744a88...|              3|             5|           3|          4|      0.6|            1.0|\n",
            "|d0a70db109564df1b...|              1|             4|           3|          6|     0.75|           0.33|\n",
            "|e1e4b47968ef42509...|              2|             4|           3|          5|     0.75|           0.67|\n",
            "|8bed51efb97049b58...|              0|             4|           1|          3|     0.25|            0.0|\n",
            "|628d90cb330a4c42a...|              5|             5|           4|         10|      0.8|           1.25|\n",
            "|3625554b70d8411bb...|              3|             4|           4|          9|      1.0|           0.75|\n",
            "|7b68d6af297344258...|              2|             3|           3|         10|      1.0|           0.67|\n",
            "|32a0f871e17c4cfdb...|              3|             4|           4|         19|      1.0|           0.75|\n",
            "|5c73c99208e449129...|              3|             5|           5|         11|      1.0|            0.6|\n",
            "|72c8dfba6eb44158a...|              3|             4|           3|          8|     0.75|            1.0|\n",
            "|daeccc82b26348ddb...|              0|             6|           4|          7|     0.67|            0.0|\n",
            "+--------------------+---------------+--------------+------------+-----------+---------+---------------+\n",
            "only showing top 20 rows\n",
            "\n"
          ]
        }
      ]
    },
    {
      "cell_type": "markdown",
      "source": [
        "## 5. Criação do df final que será utilizado nos modelos"
      ],
      "metadata": {
        "id": "zN0gt00kexnM"
      }
    },
    {
      "cell_type": "markdown",
      "source": [
        "**Objetivo**\n",
        "- Criar um dataset que representa, para cada cliente, um resumo estratégico do seu:\n",
        "  - Engajamento com cupons\n",
        "  - Comportamento de compra\n",
        "  - Preferência por tipo de oferta e canal\n",
        "  - Perfil demográfico e histórico na plataforma\n",
        "\n",
        "A intenção é que essa estrutura permita capturar os fatores mais relevantes que influenciam o sucesso ou o fracasso de uma campanha de cupons.\n",
        "\n",
        "\n"
      ],
      "metadata": {
        "id": "MJ32uVCLl4MR"
      }
    },
    {
      "cell_type": "markdown",
      "source": [
        "> *Engajamento com Ofertas*"
      ],
      "metadata": {
        "id": "J7B1i4_XkjJ0"
      }
    },
    {
      "cell_type": "code",
      "source": [
        "from pyspark.sql.functions import count, expr, when\n",
        "\n",
        "oferta_engajamento = df_final.filter(col(\"final_offer_id\").isNotNull()) \\\n",
        "    .groupBy(\"account_id\").agg(\n",
        "        count(when(col(\"event\") == \"offer received\", True)).alias(\"offer_received_count\"),\n",
        "        count(when(col(\"event\") == \"offer viewed\", True)).alias(\"offer_viewed_count\"),\n",
        "        count(when(col(\"event\") == \"offer completed\", True)).alias(\"offer_completed_count\")\n",
        "    ).withColumn(\"view_rate\", expr(\"offer_viewed_count / offer_received_count\")) \\\n",
        "     .withColumn(\"completion_rate\", expr(\"offer_completed_count / offer_viewed_count\"))\n"
      ],
      "metadata": {
        "id": "FnZb6TTbkdyV"
      },
      "execution_count": 126,
      "outputs": []
    },
    {
      "cell_type": "code",
      "source": [
        "oferta_engajamento.show(5)"
      ],
      "metadata": {
        "colab": {
          "base_uri": "https://localhost:8080/"
        },
        "id": "TidmSGf3k5vG",
        "outputId": "a156cad7-2ba9-44d6-cf2c-2c03c9877d84"
      },
      "execution_count": 127,
      "outputs": [
        {
          "output_type": "stream",
          "name": "stdout",
          "text": [
            "+--------------------+--------------------+------------------+---------------------+------------------+---------------+\n",
            "|          account_id|offer_received_count|offer_viewed_count|offer_completed_count|         view_rate|completion_rate|\n",
            "+--------------------+--------------------+------------------+---------------------+------------------+---------------+\n",
            "|c05652fa9d2c4fac9...|                   6|                 4|                    1|0.6666666666666666|           0.25|\n",
            "|9da3f2339b244229a...|                   5|                 2|                    1|               0.4|            0.5|\n",
            "|fc58860830e648c9b...|                   4|                 2|                    0|               0.5|            0.0|\n",
            "|f608dc84f5f744a88...|                   5|                 3|                    3|               0.6|            1.0|\n",
            "|25540a042d7d4aabb...|                   3|                 2|                    1|0.6666666666666666|            0.5|\n",
            "+--------------------+--------------------+------------------+---------------------+------------------+---------------+\n",
            "only showing top 5 rows\n",
            "\n"
          ]
        }
      ]
    },
    {
      "cell_type": "markdown",
      "source": [
        "> *Comportamento Transacional*"
      ],
      "metadata": {
        "id": "j9Tw2zn4kk0z"
      }
    },
    {
      "cell_type": "code",
      "source": [
        "from pyspark.sql.functions import sum as spark_sum, avg, stddev\n",
        "\n",
        "transacional = df_final.filter(col(\"event\") == \"transaction\") \\\n",
        "    .groupBy(\"account_id\").agg(\n",
        "        count(\"*\").alias(\"transaction_count\"),\n",
        "        spark_sum(\"amount\").alias(\"total_amount_spent\"),\n",
        "        avg(\"amount\").alias(\"avg_transaction_amount\"),\n",
        "        stddev(\"amount\").alias(\"std_transaction_amount\")\n",
        "    )\n"
      ],
      "metadata": {
        "id": "fP0NZ-Kzko1W"
      },
      "execution_count": 128,
      "outputs": []
    },
    {
      "cell_type": "code",
      "source": [
        "transacional.show(5)"
      ],
      "metadata": {
        "colab": {
          "base_uri": "https://localhost:8080/"
        },
        "id": "POlzlkIflCmE",
        "outputId": "5fc70e42-902f-4087-c824-234a42f01717"
      },
      "execution_count": 130,
      "outputs": [
        {
          "output_type": "stream",
          "name": "stdout",
          "text": [
            "+--------------------+-----------------+------------------+----------------------+----------------------+\n",
            "|          account_id|transaction_count|total_amount_spent|avg_transaction_amount|std_transaction_amount|\n",
            "+--------------------+-----------------+------------------+----------------------+----------------------+\n",
            "|08579355f46b49efa...|                6|            134.99|    22.498333333333335|     8.106433042137994|\n",
            "|708d8271f758417e9...|               14|             59.99|                 4.285|     2.516886813261421|\n",
            "|dd1069bbc7ef423c9...|               19|61.120000000000005|     3.216842105263158|     2.578166990177278|\n",
            "|9da3f2339b244229a...|                4|             18.87|                4.7175|     2.487105077528223|\n",
            "|30105215903d4eefb...|               12|            139.85|    11.654166666666667|    4.5565566312000705|\n",
            "+--------------------+-----------------+------------------+----------------------+----------------------+\n",
            "only showing top 5 rows\n",
            "\n"
          ]
        }
      ]
    },
    {
      "cell_type": "markdown",
      "source": [
        "> *Preferência por Tipo de Oferta*"
      ],
      "metadata": {
        "id": "KiKA4PWKkrts"
      }
    },
    {
      "cell_type": "code",
      "source": [
        "preferencias = df_final.filter(col(\"event\") == \"offer completed\") \\\n",
        "    .groupBy(\"account_id\").pivot(\"offer_type\", [\"bogo\", \"discount\", \"informational\"]).agg(count(\"*\")) \\\n",
        "    .na.fill(0).withColumnRenamed(\"bogo\", \"completed_bogo\") \\\n",
        "    .withColumnRenamed(\"discount\", \"completed_discount\") \\\n",
        "    .withColumnRenamed(\"informational\", \"completed_info\") \\\n",
        "    .withColumn(\n",
        "        \"preferred_offer_type\",\n",
        "        when((col(\"completed_bogo\") >= col(\"completed_discount\")) & (col(\"completed_bogo\") >= col(\"completed_info\")), \"bogo\")\n",
        "        .when((col(\"completed_discount\") >= col(\"completed_bogo\")) & (col(\"completed_discount\") >= col(\"completed_info\")), \"discount\")\n",
        "        .otherwise(\"informational\")\n",
        "    )\n"
      ],
      "metadata": {
        "id": "wgk2Hy9gks32"
      },
      "execution_count": 131,
      "outputs": []
    },
    {
      "cell_type": "code",
      "source": [
        "preferencias.show(5)"
      ],
      "metadata": {
        "colab": {
          "base_uri": "https://localhost:8080/"
        },
        "id": "WXcSFD0glHMy",
        "outputId": "733eb020-374e-405b-d58e-d518e04e5187"
      },
      "execution_count": 132,
      "outputs": [
        {
          "output_type": "stream",
          "name": "stdout",
          "text": [
            "+--------------------+--------------+------------------+--------------+--------------------+\n",
            "|          account_id|completed_bogo|completed_discount|completed_info|preferred_offer_type|\n",
            "+--------------------+--------------+------------------+--------------+--------------------+\n",
            "|559943eeb754463e8...|             1|                 0|             0|                bogo|\n",
            "|72c8dfba6eb44158a...|             3|                 0|             0|                bogo|\n",
            "|f5de20984950433d9...|             4|                 0|             0|                bogo|\n",
            "|304183fd053441f0a...|             3|                 1|             0|                bogo|\n",
            "|9da3f2339b244229a...|             0|                 1|             0|            discount|\n",
            "+--------------------+--------------+------------------+--------------+--------------------+\n",
            "only showing top 5 rows\n",
            "\n"
          ]
        }
      ]
    },
    {
      "cell_type": "markdown",
      "source": [
        "> *Canais Utilizados*"
      ],
      "metadata": {
        "id": "qGmFGbQ0kvwl"
      }
    },
    {
      "cell_type": "code",
      "source": [
        "\n",
        "from pyspark.sql.functions import array_contains, size, max as spark_max\n",
        "\n",
        "canal_flags = df_final.filter(col(\"event\") == \"offer received\") \\\n",
        "    .withColumn(\"channel_web\", when(array_contains(col(\"channels\"), \"web\"), 1).otherwise(0)) \\\n",
        "    .withColumn(\"channel_email\", when(array_contains(col(\"channels\"), \"email\"), 1).otherwise(0)) \\\n",
        "    .withColumn(\"channel_mobile\", when(array_contains(col(\"channels\"), \"mobile\"), 1).otherwise(0)) \\\n",
        "    .groupBy(\"account_id\").agg(\n",
        "        spark_max(\"channel_web\").alias(\"channel_web\"),\n",
        "        spark_max(\"channel_email\").alias(\"channel_email\"),\n",
        "        spark_max(\"channel_mobile\").alias(\"channel_mobile\"),\n",
        "        avg(size(col(\"channels\"))).alias(\"avg_channel_count\")\n",
        "    )\n"
      ],
      "metadata": {
        "id": "DfSTzqfHkww3"
      },
      "execution_count": 133,
      "outputs": []
    },
    {
      "cell_type": "code",
      "source": [
        "canal_flags.show(5)"
      ],
      "metadata": {
        "colab": {
          "base_uri": "https://localhost:8080/"
        },
        "id": "FulC4sQalKXS",
        "outputId": "1ccc423e-664e-418b-e6a5-3549a161dd4d"
      },
      "execution_count": 134,
      "outputs": [
        {
          "output_type": "stream",
          "name": "stdout",
          "text": [
            "+--------------------+-----------+-------------+--------------+------------------+\n",
            "|          account_id|channel_web|channel_email|channel_mobile| avg_channel_count|\n",
            "+--------------------+-----------+-------------+--------------+------------------+\n",
            "|c05652fa9d2c4fac9...|          1|            1|             1|3.1666666666666665|\n",
            "|9da3f2339b244229a...|          1|            1|             1|               3.0|\n",
            "|fc58860830e648c9b...|          1|            1|             1|              3.25|\n",
            "|f608dc84f5f744a88...|          1|            1|             1|               3.2|\n",
            "|25540a042d7d4aabb...|          1|            1|             1|3.3333333333333335|\n",
            "+--------------------+-----------+-------------+--------------+------------------+\n",
            "only showing top 5 rows\n",
            "\n"
          ]
        }
      ]
    },
    {
      "cell_type": "markdown",
      "source": [
        "> *Perfil Demográfico*"
      ],
      "metadata": {
        "id": "edv8XErIkzoM"
      }
    },
    {
      "cell_type": "code",
      "source": [
        "clientes_demo = df_final.select(\"account_id\", \"age\", \"credit_card_limit\", \"days_since_registration\") \\\n",
        "    .dropna(subset=[\"age\", \"credit_card_limit\", \"days_since_registration\"]).dropDuplicates([\"account_id\"])\n"
      ],
      "metadata": {
        "id": "M52zwrl8k2v9"
      },
      "execution_count": 135,
      "outputs": []
    },
    {
      "cell_type": "code",
      "source": [
        "clientes_demo.show(5)"
      ],
      "metadata": {
        "colab": {
          "base_uri": "https://localhost:8080/"
        },
        "id": "4Cvzjt2AlMAS",
        "outputId": "9f26d2ba-72af-43d9-b231-412e19f1b0a7"
      },
      "execution_count": 136,
      "outputs": [
        {
          "output_type": "stream",
          "name": "stdout",
          "text": [
            "+--------------------+---+-----------------+-----------------------+\n",
            "|          account_id|age|credit_card_limit|days_since_registration|\n",
            "+--------------------+---+-----------------+-----------------------+\n",
            "|c05652fa9d2c4fac9...| 62|          73000.0|                   2657|\n",
            "|9da3f2339b244229a...| 49|          36000.0|                   2675|\n",
            "|fc58860830e648c9b...| 79|          64000.0|                   2520|\n",
            "|f608dc84f5f744a88...| 68|         115000.0|                   2927|\n",
            "|25540a042d7d4aabb...| 71|         108000.0|                   2715|\n",
            "+--------------------+---+-----------------+-----------------------+\n",
            "only showing top 5 rows\n",
            "\n"
          ]
        }
      ]
    },
    {
      "cell_type": "markdown",
      "source": [
        "> *Final*"
      ],
      "metadata": {
        "id": "SzV4wrAmlTTQ"
      }
    },
    {
      "cell_type": "code",
      "source": [
        "df_final_analytics = df_final.select(\"account_id\").distinct() \\\n",
        "    .join(oferta_engajamento, on=\"account_id\", how=\"left\") \\\n",
        "    .join(transacional, on=\"account_id\", how=\"left\") \\\n",
        "    .join(preferencias, on=\"account_id\", how=\"left\") \\\n",
        "    .join(canal_flags, on=\"account_id\", how=\"left\") \\\n",
        "    .join(clientes_demo, on=\"account_id\", how=\"left\")\n"
      ],
      "metadata": {
        "id": "LgZhqivWlU6f"
      },
      "execution_count": 137,
      "outputs": []
    },
    {
      "cell_type": "code",
      "source": [
        "df_final_analytics.show(5)"
      ],
      "metadata": {
        "colab": {
          "base_uri": "https://localhost:8080/"
        },
        "id": "No9SEzvPlWYP",
        "outputId": "4506ecf6-4885-4321-ecef-7a034ef7555f"
      },
      "execution_count": 138,
      "outputs": [
        {
          "output_type": "stream",
          "name": "stdout",
          "text": [
            "+--------------------+--------------------+------------------+---------------------+------------------+---------------+-----------------+------------------+----------------------+----------------------+--------------+------------------+--------------+--------------------+-----------+-------------+--------------+------------------+---+-----------------+-----------------------+\n",
            "|          account_id|offer_received_count|offer_viewed_count|offer_completed_count|         view_rate|completion_rate|transaction_count|total_amount_spent|avg_transaction_amount|std_transaction_amount|completed_bogo|completed_discount|completed_info|preferred_offer_type|channel_web|channel_email|channel_mobile| avg_channel_count|age|credit_card_limit|days_since_registration|\n",
            "+--------------------+--------------------+------------------+---------------------+------------------+---------------+-----------------+------------------+----------------------+----------------------+--------------+------------------+--------------+--------------------+-----------+-------------+--------------+------------------+---+-----------------+-----------------------+\n",
            "|c05652fa9d2c4fac9...|                   6|                 4|                    1|0.6666666666666666|           0.25|                7|             27.23|                  3.89|     2.272964290671252|             1|                 0|             0|                bogo|          1|            1|             1|3.1666666666666665| 62|          73000.0|                   2657|\n",
            "|9da3f2339b244229a...|                   5|                 2|                    1|               0.4|            0.5|                4|             18.87|                4.7175|     2.487105077528223|             0|                 1|             0|            discount|          1|            1|             1|               3.0| 49|          36000.0|                   2675|\n",
            "|fc58860830e648c9b...|                   4|                 2|                    0|               0.5|            0.0|                4|              10.2|                  2.55|    1.5988954520751715|          null|              null|          null|                null|          1|            1|             1|              3.25| 79|          64000.0|                   2520|\n",
            "|f608dc84f5f744a88...|                   5|                 3|                    3|               0.6|            1.0|                4|            101.64|                 25.41|      6.31879207865976|             2|                 1|             0|                bogo|          1|            1|             1|               3.2| 68|         115000.0|                   2927|\n",
            "|25540a042d7d4aabb...|                   3|                 2|                    1|0.6666666666666666|            0.5|                4|112.58000000000001|    28.145000000000003|     6.790294544421471|             1|                 0|             0|                bogo|          1|            1|             1|3.3333333333333335| 71|         108000.0|                   2715|\n",
            "+--------------------+--------------------+------------------+---------------------+------------------+---------------+-----------------+------------------+----------------------+----------------------+--------------+------------------+--------------+--------------------+-----------+-------------+--------------+------------------+---+-----------------+-----------------------+\n",
            "only showing top 5 rows\n",
            "\n"
          ]
        }
      ]
    },
    {
      "cell_type": "code",
      "source": [
        "os.makedirs(\"ifood-case/data/processed\", exist_ok=True)"
      ],
      "metadata": {
        "id": "Q7jYQqHDqCPG"
      },
      "execution_count": 145,
      "outputs": []
    },
    {
      "cell_type": "code",
      "source": [
        "output_path = \"ifood-case/data/processed/df_final_analytics.parquet\"\n",
        "df_final_analytics.write.mode(\"overwrite\").parquet(output_path)"
      ],
      "metadata": {
        "id": "7FvNjIBrooWz"
      },
      "execution_count": 146,
      "outputs": []
    },
    {
      "cell_type": "code",
      "source": [
        "!ls -l ifood-case/data/processed/\n"
      ],
      "metadata": {
        "colab": {
          "base_uri": "https://localhost:8080/"
        },
        "id": "vyyW23BzqTyX",
        "outputId": "aa2d78a0-0032-416b-846f-1c5e46197771"
      },
      "execution_count": 147,
      "outputs": [
        {
          "output_type": "stream",
          "name": "stdout",
          "text": [
            "total 4\n",
            "drwxr-xr-x 2 root root 4096 May  7 16:51 df_final_analytics.parquet\n"
          ]
        }
      ]
    },
    {
      "cell_type": "code",
      "source": [
        "!zip -r df_final_analytics.zip ifood-case/data/processed/df_final_analytics.parquet\n",
        "\n",
        "from google.colab import files\n",
        "files.download(\"df_final_analytics.zip\")\n"
      ],
      "metadata": {
        "colab": {
          "base_uri": "https://localhost:8080/",
          "height": 104
        },
        "id": "4hTOAEtnquoM",
        "outputId": "fa8c5851-e640-4ed3-c313-5585d21e4e5e"
      },
      "execution_count": 149,
      "outputs": [
        {
          "output_type": "stream",
          "name": "stdout",
          "text": [
            "  adding: ifood-case/data/processed/df_final_analytics.parquet/ (stored 0%)\n",
            "  adding: ifood-case/data/processed/df_final_analytics.parquet/.part-00000-f18fb514-fd07-44c7-a67f-e7a1b24d1fbc-c000.snappy.parquet.crc (stored 0%)\n",
            "  adding: ifood-case/data/processed/df_final_analytics.parquet/._SUCCESS.crc (stored 0%)\n",
            "  adding: ifood-case/data/processed/df_final_analytics.parquet/_SUCCESS (stored 0%)\n",
            "  adding: ifood-case/data/processed/df_final_analytics.parquet/part-00000-f18fb514-fd07-44c7-a67f-e7a1b24d1fbc-c000.snappy.parquet (deflated 19%)\n"
          ]
        },
        {
          "output_type": "display_data",
          "data": {
            "text/plain": [
              "<IPython.core.display.Javascript object>"
            ],
            "application/javascript": [
              "\n",
              "    async function download(id, filename, size) {\n",
              "      if (!google.colab.kernel.accessAllowed) {\n",
              "        return;\n",
              "      }\n",
              "      const div = document.createElement('div');\n",
              "      const label = document.createElement('label');\n",
              "      label.textContent = `Downloading \"${filename}\": `;\n",
              "      div.appendChild(label);\n",
              "      const progress = document.createElement('progress');\n",
              "      progress.max = size;\n",
              "      div.appendChild(progress);\n",
              "      document.body.appendChild(div);\n",
              "\n",
              "      const buffers = [];\n",
              "      let downloaded = 0;\n",
              "\n",
              "      const channel = await google.colab.kernel.comms.open(id);\n",
              "      // Send a message to notify the kernel that we're ready.\n",
              "      channel.send({})\n",
              "\n",
              "      for await (const message of channel.messages) {\n",
              "        // Send a message to notify the kernel that we're ready.\n",
              "        channel.send({})\n",
              "        if (message.buffers) {\n",
              "          for (const buffer of message.buffers) {\n",
              "            buffers.push(buffer);\n",
              "            downloaded += buffer.byteLength;\n",
              "            progress.value = downloaded;\n",
              "          }\n",
              "        }\n",
              "      }\n",
              "      const blob = new Blob(buffers, {type: 'application/binary'});\n",
              "      const a = document.createElement('a');\n",
              "      a.href = window.URL.createObjectURL(blob);\n",
              "      a.download = filename;\n",
              "      div.appendChild(a);\n",
              "      a.click();\n",
              "      div.remove();\n",
              "    }\n",
              "  "
            ]
          },
          "metadata": {}
        },
        {
          "output_type": "display_data",
          "data": {
            "text/plain": [
              "<IPython.core.display.Javascript object>"
            ],
            "application/javascript": [
              "download(\"download_274331ce-19b8-490b-94d8-11325dfe1f55\", \"df_final_analytics.zip\", 841942)"
            ]
          },
          "metadata": {}
        }
      ]
    },
    {
      "cell_type": "code",
      "source": [
        "df_final_analytics = spark.read.parquet(\"ifood-case/data/processed/df_final_analytics.parquet\")\n",
        "df_final_analytics.show()\n"
      ],
      "metadata": {
        "colab": {
          "base_uri": "https://localhost:8080/"
        },
        "id": "drgCIsBGqaih",
        "outputId": "c3fd1567-0966-40e4-b6d5-358b15c030da"
      },
      "execution_count": 150,
      "outputs": [
        {
          "output_type": "stream",
          "name": "stdout",
          "text": [
            "+--------------------+--------------------+------------------+---------------------+------------------+------------------+-----------------+------------------+----------------------+----------------------+--------------+------------------+--------------+--------------------+-----------+-------------+--------------+------------------+----+-----------------+-----------------------+\n",
            "|          account_id|offer_received_count|offer_viewed_count|offer_completed_count|         view_rate|   completion_rate|transaction_count|total_amount_spent|avg_transaction_amount|std_transaction_amount|completed_bogo|completed_discount|completed_info|preferred_offer_type|channel_web|channel_email|channel_mobile| avg_channel_count| age|credit_card_limit|days_since_registration|\n",
            "+--------------------+--------------------+------------------+---------------------+------------------+------------------+-----------------+------------------+----------------------+----------------------+--------------+------------------+--------------+--------------------+-----------+-------------+--------------+------------------+----+-----------------+-----------------------+\n",
            "|c05652fa9d2c4fac9...|                   6|                 4|                    1|0.6666666666666666|              0.25|                7|             27.23|                  3.89|     2.272964290671252|             1|                 0|             0|                bogo|          1|            1|             1|3.1666666666666665|  62|          73000.0|                   2657|\n",
            "|9da3f2339b244229a...|                   5|                 2|                    1|               0.4|               0.5|                4|             18.87|                4.7175|     2.487105077528223|             0|                 1|             0|            discount|          1|            1|             1|               3.0|  49|          36000.0|                   2675|\n",
            "|fc58860830e648c9b...|                   4|                 2|                    0|               0.5|               0.0|                4|              10.2|                  2.55|    1.5988954520751715|          null|              null|          null|                null|          1|            1|             1|              3.25|  79|          64000.0|                   2520|\n",
            "|f608dc84f5f744a88...|                   5|                 3|                    3|               0.6|               1.0|                4|            101.64|                 25.41|      6.31879207865976|             2|                 1|             0|                bogo|          1|            1|             1|               3.2|  68|         115000.0|                   2927|\n",
            "|25540a042d7d4aabb...|                   3|                 2|                    1|0.6666666666666666|               0.5|                4|112.58000000000001|    28.145000000000003|     6.790294544421471|             1|                 0|             0|                bogo|          1|            1|             1|3.3333333333333335|  71|         108000.0|                   2715|\n",
            "|f3acf14291c040a5b...|                   4|                 3|                    3|              0.75|               1.0|                5|             94.34|    18.868000000000002|     8.931269226711287|             1|                 2|             0|            discount|          1|            1|             1|              2.75|  52|          68000.0|                   3295|\n",
            "|c029ebbd5e584674b...|                   5|                 4|                    0|               0.8|               0.0|                3|             12.06|    4.0200000000000005|    2.9461839725312466|          null|              null|          null|                null|          1|            1|             1|               3.4|null|             null|                   null|\n",
            "|05ea8d8a95eb4b209...|                   4|                 1|                    3|              0.25|               3.0|                5|            133.53|                26.706|     7.929320904087561|             2|                 1|             0|                bogo|          1|            1|             1|              3.25|  62|         111000.0|                   3473|\n",
            "|5dca7efd64aa40e9a...|                   4|                 2|                    0|               0.5|               0.0|                4|             13.06|                 3.265|    1.8834277262480765|          null|              null|          null|                null|          1|            1|             1|              3.25|null|             null|                   null|\n",
            "|559943eeb754463e8...|                   2|                 1|                    1|               0.5|               1.0|                3|             63.47|    21.156666666666666|    1.7638688537794789|             1|                 0|             0|                bogo|          1|            1|             1|               3.0|  50|          81000.0|                   2795|\n",
            "|016871ea865d43389...|                   6|                 2|                    1|0.3333333333333333|               0.5|                3|             45.79|    15.263333333333334|     3.468635658776132|             0|                 1|             0|            discount|          1|            1|             1|3.1666666666666665|  57|          79000.0|                   2532|\n",
            "|f1a97a4aabba4015b...|                   5|                 4|                    1|               0.8|              0.25|                5|26.659999999999997|     5.331999999999999|     3.589034689160861|             1|                 0|             0|                bogo|          1|            1|             1|               3.4|  33|          44000.0|                   2816|\n",
            "|d7fec020017649a7a...|                   6|                 4|                    4|0.6666666666666666|               1.0|                6|             56.37|                 9.395|     4.531925639284034|             1|                 3|             0|            discount|          1|            1|             1|3.3333333333333335|  36|          40000.0|                   2681|\n",
            "|8ca462f1192b4aa29...|                   4|                 3|                    0|              0.75|               0.0|               13|             30.25|     2.326923076923077|    1.9551060696519111|          null|              null|          null|                null|          1|            1|             1|              3.25|  64|          54000.0|                   2926|\n",
            "|b3d1075ec03c4c188...|                   4|                 4|                    4|               1.0|               1.0|                5| 91.46000000000001|                18.292|     9.250152431176472|             2|                 2|             0|                bogo|          1|            1|             1|              3.75|  54|          71000.0|                   2891|\n",
            "|f83716ec38f44f038...|                   6|                 5|                    1|0.8333333333333334|               0.2|                7|              21.5|    3.0714285714285716|    1.5957070383942515|             1|                 0|             0|                bogo|          1|            1|             1|               3.5|  21|          35000.0|                   2562|\n",
            "|738943cdecfd45348...|                   6|                 5|                    1|0.8333333333333334|               0.2|               23| 86.64999999999998|     3.767391304347825|     2.420622041375662|             0|                 1|             0|            discount|          1|            1|             1|               3.5|  35|          61000.0|                   2750|\n",
            "|dfdd34f61d0645bca...|                   4|                 4|                    3|               1.0|              0.75|                2|             32.61|                16.305|    3.3728993462598327|             1|                 2|             0|            discount|          1|            1|             1|              3.25|  76|          59000.0|                   2756|\n",
            "|6be0513109fe4d738...|                   4|                 3|                    1|              0.75|0.3333333333333333|                3|             40.05|                 13.35|    0.5121523210920754|             0|                 1|             0|            discount|          1|            1|             1|               3.5|  42|          57000.0|                   2520|\n",
            "|ab25fd6fbd5040f88...|                   5|                 4|                    5|               0.8|              1.25|               30| 717.2099999999998|    23.906999999999993|    62.290056612260514|             2|                 3|             0|            discount|          1|            1|             1|               3.8|  35|          49000.0|                   3536|\n",
            "+--------------------+--------------------+------------------+---------------------+------------------+------------------+-----------------+------------------+----------------------+----------------------+--------------+------------------+--------------+--------------------+-----------+-------------+--------------+------------------+----+-----------------+-----------------------+\n",
            "only showing top 20 rows\n",
            "\n"
          ]
        }
      ]
    },
    {
      "cell_type": "markdown",
      "source": [
        "---"
      ],
      "metadata": {
        "id": "f_gz19wJq9O5"
      }
    },
    {
      "cell_type": "markdown",
      "source": [
        "# Montando os modelos"
      ],
      "metadata": {
        "id": "y_30wfS6tVId"
      }
    },
    {
      "cell_type": "markdown",
      "source": [
        "**Objetivo dos modelos:**\n",
        "- Entender diferentes níveis de engajamento com as ofertas — para então aplicar estratégias diferentes para cada grupo.\n",
        "\n",
        "1. Modelos multiclasses por estágio de engajamento\n",
        "Criar um modelo com três classes. Para entender em que estágio o cliente trava\n",
        "\n",
        "| Classe | Comportamento                     |\n",
        "| ------ | --------------------------------- |\n",
        "| `0`    | Recebe a oferta, **mas não vê**   |\n",
        "| `1`    | Vê a oferta, **mas não completa** |\n",
        "| `2`    | Vê e **completa a oferta**        |\n",
        "\n",
        "Estratégia:\n",
        "\n",
        "- Classe 0: revisar canal e momento do envio\n",
        "- Classe 1: revisar conteúdo/valor da oferta\n",
        "- Classe 2: manter estratégia parecida"
      ],
      "metadata": {
        "id": "Tf5Qmlimtc7p"
      }
    },
    {
      "cell_type": "markdown",
      "source": [
        "# 1. Criar coluna de engajamento por estágio do funil\n",
        "\n",
        "> Nível de engajamento (0 = não viu, 1 = viu mas não completou, 2 = completou)"
      ],
      "metadata": {
        "id": "Mmj2G8FjvmSq"
      }
    },
    {
      "cell_type": "code",
      "source": [
        "df_final_analytics.filter(df_final_analytics.nome_da_coluna == \"categoria_desejada\").show()\n"
      ],
      "metadata": {
        "id": "FA6BCk0CwFel"
      },
      "execution_count": null,
      "outputs": []
    },
    {
      "cell_type": "markdown",
      "source": [
        "> A maioria dos clientes está engajada (nível 2), o que é um bom indicativo.\n",
        "\n",
        "> Há uma quantidade expressiva de clientes no nível 1 (quase 25%), que são ótimos alvos para estratégias de recuperação e reengajamento.\n",
        "\n",
        "> O nível 0 representa um grupo muito pequeno (menos de 1%) e pode ser tratado com estratégias de primeiro engajamento, mas talvez não seja um foco prioritário de otimização de curto prazo (embora interessante para análise qualitativa ou modelos futuros de churn/ativação)."
      ],
      "metadata": {
        "id": "K97CTlojw67h"
      }
    },
    {
      "cell_type": "code",
      "source": [
        "from pyspark.sql.functions import when, col\n",
        "\n",
        "df_final_analytics = df_final_analytics.withColumn(\n",
        "    \"engagement_level\",\n",
        "    when(col(\"offer_viewed_count\") == 0, 0)\n",
        "    .when((col(\"offer_viewed_count\") > 0) & (col(\"offer_completed_count\") == 0), 1)\n",
        "    .otherwise(2)\n",
        ")\n",
        "\n",
        "df_final_analytics.groupBy(\"engagement_level\").count().orderBy(\"engagement_level\").show()\n"
      ],
      "metadata": {
        "colab": {
          "base_uri": "https://localhost:8080/"
        },
        "id": "-3w2bVWMq8_b",
        "outputId": "f706653f-9cb7-4e99-c51a-ae4b38a50411"
      },
      "execution_count": 151,
      "outputs": [
        {
          "output_type": "stream",
          "name": "stdout",
          "text": [
            "+----------------+-----+\n",
            "|engagement_level|count|\n",
            "+----------------+-----+\n",
            "|               0|  160|\n",
            "|               1| 4133|\n",
            "|               2|12707|\n",
            "+----------------+-----+\n",
            "\n"
          ]
        }
      ]
    },
    {
      "cell_type": "markdown",
      "source": [
        "## 1.2. Imputação com estratégia guiada por negócio nos valores nulos"
      ],
      "metadata": {
        "id": "2gU6xFl53tfY"
      }
    },
    {
      "cell_type": "markdown",
      "source": [
        "> Como tratar os clientes expostos às campanhas, mas não engajados (consequentemente valores nulos)\n",
        "\n",
        "| Coluna                                                   | Estratégia recomendada                              | Justificativa                                                          |\n",
        "| -------------------------------------------------------- | --------------------------------------------------- | ---------------------------------------------------------------------- |\n",
        "| `transaction_count`, `total_amount_spent`, `completed_*` | Preencher com `0`                                   | Indica ausência de comportamento, o que é informativo                  |\n",
        "| `avg_transaction_amount`, `std_transaction_amount`       | Preencher com `0` ou `null`                         | Valor só faz sentido se houve transação — `0` indica \"não gastou nada\" |\n",
        "| `preferred_offer_type`                                   | Preencher com `\"none\"`                              | Cliente ainda sem padrão de preferência                                |\n",
        "| `age`, `credit_card_limit`, `days_since_registration`    | Imputar com média ou criar **faixa \"desconhecido\"** | Evita perder clientes por falta de cadastro completo                   |\n",
        "| `view_rate`, `completion_rate`                           | Preencher com `0`                                   | Cliente que não viu ou não completou                                   |\n"
      ],
      "metadata": {
        "id": "KEnuGk5y3zKb"
      }
    },
    {
      "cell_type": "code",
      "source": [
        "# Valores nulos\n",
        "df_final_analytics.filter(\n",
        "    col(\"avg_transaction_amount\").isNull() |\n",
        "    col(\"completion_rate\").isNull() |\n",
        "    col(\"view_rate\").isNull()\n",
        ").show(10, truncate=False)\n"
      ],
      "metadata": {
        "id": "jGXNwh_V49ai"
      },
      "execution_count": null,
      "outputs": []
    },
    {
      "cell_type": "code",
      "source": [
        "from pyspark.sql.functions import when, col, lit\n",
        "\n",
        "df_model = df_final_analytics\n",
        "\n",
        "\n",
        "df_model = df_model.fillna({\n",
        "    \"transaction_count\": 0,\n",
        "    \"total_amount_spent\": 0.0,\n",
        "    \"completed_bogo\": 0,\n",
        "    \"completed_discount\": 0,\n",
        "    \"completed_info\": 0,\n",
        "    \"view_rate\": 0.0,\n",
        "    \"completion_rate\": 0.0,\n",
        "    \"channel_web\": 0,\n",
        "    \"channel_email\": 0,\n",
        "    \"channel_mobile\": 0,\n",
        "    \"avg_channel_count\": 0.0\n",
        "})\n"
      ],
      "metadata": {
        "id": "dYK7UH3o5Dgb"
      },
      "execution_count": 181,
      "outputs": []
    },
    {
      "cell_type": "markdown",
      "source": [
        "> *Variáveis que só fazem sentido se houve transação*"
      ],
      "metadata": {
        "id": "HzydjsxV5-ae"
      }
    },
    {
      "cell_type": "code",
      "source": [
        "df_model = df_model.withColumn(\"avg_transaction_amount\",\n",
        "    when(col(\"avg_transaction_amount\").isNull(), None).otherwise(col(\"avg_transaction_amount\"))\n",
        ")\n",
        "\n",
        "df_model = df_model.withColumn(\"std_transaction_amount\",\n",
        "    when(col(\"std_transaction_amount\").isNull(), None).otherwise(col(\"std_transaction_amount\"))\n",
        ")\n"
      ],
      "metadata": {
        "id": "5pZuWxKy59kN"
      },
      "execution_count": 182,
      "outputs": []
    },
    {
      "cell_type": "markdown",
      "source": [
        "> *Tipo de oferta preferida — sem padrão ainda*"
      ],
      "metadata": {
        "id": "1-zTmR8O54oZ"
      }
    },
    {
      "cell_type": "code",
      "source": [
        "df_model = df_model.withColumn(\"preferred_offer_type\",\n",
        "    when(col(\"preferred_offer_type\").isNull(), \"none\").otherwise(col(\"preferred_offer_type\"))\n",
        ")"
      ],
      "metadata": {
        "id": "moK5cljB5yxM"
      },
      "execution_count": 183,
      "outputs": []
    },
    {
      "cell_type": "markdown",
      "source": [
        "> *Dados de cadastro — imputar \"desconhecido\" para preservar cliente*\n",
        "\n",
        "> *Evita enviesamento estatístico: 0 não será usado como se fosse um gasto válido onde não houve.*"
      ],
      "metadata": {
        "id": "f9U8GIoo517r"
      }
    },
    {
      "cell_type": "code",
      "source": [
        "df_model = df_model.fillna({\n",
        "    \"age\": -1,\n",
        "    \"credit_card_limit\": -1.0,\n",
        "    \"days_since_registration\": -1,\n",
        "    \"avg_transaction_amount\": -1.0,\n",
        "    \"std_transaction_amount\": -1.0\n",
        "})\n"
      ],
      "metadata": {
        "id": "IlW-eIb85zz1"
      },
      "execution_count": 184,
      "outputs": []
    },
    {
      "cell_type": "markdown",
      "source": [
        "# 2.  Seleção de Features/Target e analise de desbalanceamento\n"
      ],
      "metadata": {
        "id": "8fbelJtdyv-h"
      }
    },
    {
      "cell_type": "markdown",
      "source": [
        "> Features\n",
        "\n",
        "- Essas features foram seçlecionadas pela relação direta com o comportamento do cliente e a estrutura da oferta:\n",
        "\n"
      ],
      "metadata": {
        "id": "KO7QPUEvzFqD"
      }
    },
    {
      "cell_type": "markdown",
      "source": [
        "> Target: engagement_level\n",
        "\n",
        "  - 0: Nunca engajou\n",
        "\n",
        "  - 1: Engajou parcialmente\n",
        "\n",
        "  - 2: Engajou totalmente"
      ],
      "metadata": {
        "id": "6kMLmiXOzABt"
      }
    },
    {
      "cell_type": "markdown",
      "source": [
        "> Desbalanceamento\n",
        "\n",
        "- Avaliar impacto do desbalanceamento nos modelos (ex: com matriz de confusão).\n",
        "\n",
        "- Testar estratégias como:\n",
        "\n",
        "- Class weights (ex: no RandomForest ou Logistic Regression)\n",
        "\n",
        "- Estratégia de avaliação focada em recall/precision de grupos minoritários"
      ],
      "metadata": {
        "id": "5ZbIV-y7zVkL"
      }
    },
    {
      "cell_type": "markdown",
      "source": [
        "> *Primeiro teste com o modelo desbalanceado* `Random Forest`"
      ],
      "metadata": {
        "id": "JICBnUSEIRaY"
      }
    },
    {
      "cell_type": "code",
      "source": [
        "from pyspark.ml.feature import VectorAssembler, StringIndexer\n",
        "from pyspark.ml.classification import RandomForestClassifier\n",
        "from pyspark.ml import Pipeline\n",
        "from pyspark.ml.evaluation import MulticlassClassificationEvaluator\n",
        "\n",
        "features = [\n",
        "    # Perfil do cliente\n",
        "    \"age\",\n",
        "    \"credit_card_limit\",\n",
        "    \"days_since_registration\",\n",
        "\n",
        "    # Comportamento de compra (geral)\n",
        "    \"transaction_count\",\n",
        "    \"total_amount_spent\",\n",
        "    \"avg_transaction_amount\",\n",
        "    \"std_transaction_amount\",\n",
        "\n",
        "    # Canais de marketing\n",
        "    \"channel_web\",\n",
        "    \"channel_email\",\n",
        "    \"channel_mobile\",\n",
        "    \"avg_channel_count\"\n",
        "]\n",
        "\n",
        "\n",
        "# 2. Indexar coluna categórica\n",
        "indexer = StringIndexer(inputCol=\"preferred_offer_type\", outputCol=\"preferred_offer_type_index\", handleInvalid=\"keep\")\n",
        "\n",
        "# 3. Vetorização\n",
        "assembler = VectorAssembler(\n",
        "    inputCols=[f for f in features if f != \"preferred_offer_type\"] + [\"preferred_offer_type_index\"],\n",
        "    outputCol=\"features\",\n",
        "    handleInvalid=\"keep\"  # ← evita erro com nulos ou valores inválidos\n",
        ")\n",
        "\n",
        "\n",
        "# 4. Classificador\n",
        "rf = RandomForestClassifier(labelCol=\"engagement_level\", featuresCol=\"features\", seed=42)\n",
        "\n",
        "# 5. Pipeline\n",
        "pipeline = Pipeline(stages=[indexer, assembler, rf])\n",
        "\n",
        "# 6. Divisão dos dados\n",
        "train, test = df_model.randomSplit([0.8, 0.2], seed=42)\n",
        "\n",
        "# 7. Treinamento\n",
        "model = pipeline.fit(train)\n",
        "\n",
        "# 8. Previsões\n",
        "predictions = model.transform(test)\n",
        "\n",
        "# 9. Avaliação\n",
        "evaluator_acc = MulticlassClassificationEvaluator(\n",
        "    labelCol=\"engagement_level\", predictionCol=\"prediction\", metricName=\"accuracy\"\n",
        ")\n",
        "evaluator_f1 = MulticlassClassificationEvaluator(\n",
        "    labelCol=\"engagement_level\", predictionCol=\"prediction\", metricName=\"f1\"\n",
        ")\n",
        "\n",
        "accuracy = evaluator_acc.evaluate(predictions)\n",
        "f1_score = evaluator_f1.evaluate(predictions)\n",
        "\n",
        "print(f\"✅ Acurácia: {accuracy:.4f}\")\n",
        "print(f\"🎯 F1-score: {f1_score:.4f}\")\n"
      ],
      "metadata": {
        "colab": {
          "base_uri": "https://localhost:8080/"
        },
        "id": "iVo945MA0Skw",
        "outputId": "296fbe10-cf83-4d8d-ba04-d8c672fb8578"
      },
      "execution_count": 190,
      "outputs": [
        {
          "output_type": "stream",
          "name": "stdout",
          "text": [
            "✅ Acurácia: 0.9886\n",
            "🎯 F1-score: 0.9829\n"
          ]
        }
      ]
    },
    {
      "cell_type": "markdown",
      "source": [
        "> Overfitting?"
      ],
      "metadata": {
        "id": "3uPtPokyDgFo"
      }
    },
    {
      "cell_type": "code",
      "source": [
        "# Avaliação no treino\n",
        "train_predictions = model.transform(train)\n",
        "\n",
        "train_acc = evaluator_acc.evaluate(train_predictions)\n",
        "train_f1 = evaluator_f1.evaluate(train_predictions)\n",
        "\n",
        "print(f\"📘 Acurácia Treino: {train_acc:.4f}\")\n",
        "print(f\"📘 F1-score Treino: {train_f1:.4f}\")\n"
      ],
      "metadata": {
        "colab": {
          "base_uri": "https://localhost:8080/"
        },
        "id": "laOOhIOuCwR9",
        "outputId": "4da482cb-9593-4376-9b96-9ac5558b60e1"
      },
      "execution_count": 198,
      "outputs": [
        {
          "output_type": "stream",
          "name": "stdout",
          "text": [
            "📘 Acurácia Treino: 0.9909\n",
            "📘 F1-score Treino: 0.9865\n"
          ]
        }
      ]
    },
    {
      "cell_type": "code",
      "source": [
        "from pyspark.ml.tuning import CrossValidator, ParamGridBuilder\n",
        "\n",
        "param_grid = ParamGridBuilder().addGrid(rf.numTrees, [10, 20, 50]).build()\n",
        "\n",
        "crossval = CrossValidator(\n",
        "    estimator=pipeline,\n",
        "    estimatorParamMaps=param_grid,\n",
        "    evaluator=evaluator_f1,\n",
        "    numFolds=5\n",
        ")\n",
        "\n",
        "cv_model = crossval.fit(train)\n",
        "cv_predictions = cv_model.transform(test)\n",
        "\n",
        "print(\"F1-score com validação cruzada:\", evaluator_f1.evaluate(cv_predictions))\n"
      ],
      "metadata": {
        "colab": {
          "base_uri": "https://localhost:8080/"
        },
        "id": "Jx8v9l_jC5Pv",
        "outputId": "0c804c96-83a1-49d4-dabd-cc8ff8a2c5d5"
      },
      "execution_count": 199,
      "outputs": [
        {
          "output_type": "stream",
          "name": "stdout",
          "text": [
            "F1-score com validação cruzada: 0.9829267765922475\n"
          ]
        }
      ]
    },
    {
      "cell_type": "markdown",
      "source": [
        "> *Matriz de Confusão*"
      ],
      "metadata": {
        "id": "sHvBIiXdEb4o"
      }
    },
    {
      "cell_type": "markdown",
      "source": [
        "> *Não esta conseguindo classificar a classe 0*"
      ],
      "metadata": {
        "id": "00jFXPTXIYEV"
      }
    },
    {
      "cell_type": "code",
      "source": [
        "predictions.groupBy(\"engagement_level\", \"prediction\").count().orderBy(\"engagement_level\", \"prediction\").show()\n"
      ],
      "metadata": {
        "colab": {
          "base_uri": "https://localhost:8080/"
        },
        "id": "J3Ngq7JZEcQ_",
        "outputId": "6d4a55d6-12f4-4250-f085-4d015efb85fa"
      },
      "execution_count": 200,
      "outputs": [
        {
          "output_type": "stream",
          "name": "stdout",
          "text": [
            "+----------------+----------+-----+\n",
            "|engagement_level|prediction|count|\n",
            "+----------------+----------+-----+\n",
            "|               0|       1.0|   21|\n",
            "|               0|       2.0|   17|\n",
            "|               1|       1.0|  811|\n",
            "|               2|       2.0| 2480|\n",
            "+----------------+----------+-----+\n",
            "\n"
          ]
        }
      ]
    },
    {
      "cell_type": "markdown",
      "source": [
        "> *Métricas por Classe (Precision, Recall, F1)*\n",
        "\n",
        "> *Parece estar sensivel ao desbalanceamento*"
      ],
      "metadata": {
        "id": "nvtCTl-kEjuT"
      }
    },
    {
      "cell_type": "code",
      "source": [
        "from sklearn.metrics import classification_report\n",
        "\n",
        "# Converte para Pandas\n",
        "pred_df = predictions.select(\"engagement_level\", \"prediction\").toPandas()\n",
        "\n",
        "# Exibe o relatório por classe\n",
        "print(classification_report(pred_df[\"engagement_level\"], pred_df[\"prediction\"]))\n"
      ],
      "metadata": {
        "colab": {
          "base_uri": "https://localhost:8080/"
        },
        "id": "kTg54U2xEk9q",
        "outputId": "4d8f84fb-35ea-4994-a7a9-65df7804e35f"
      },
      "execution_count": 203,
      "outputs": [
        {
          "output_type": "stream",
          "name": "stdout",
          "text": [
            "              precision    recall  f1-score   support\n",
            "\n",
            "           0       0.00      0.00      0.00        38\n",
            "           1       0.97      1.00      0.99       811\n",
            "           2       0.99      1.00      1.00      2480\n",
            "\n",
            "    accuracy                           0.99      3329\n",
            "   macro avg       0.66      0.67      0.66      3329\n",
            "weighted avg       0.98      0.99      0.98      3329\n",
            "\n"
          ]
        },
        {
          "output_type": "stream",
          "name": "stderr",
          "text": [
            "/usr/local/lib/python3.11/dist-packages/sklearn/metrics/_classification.py:1565: UndefinedMetricWarning: Precision is ill-defined and being set to 0.0 in labels with no predicted samples. Use `zero_division` parameter to control this behavior.\n",
            "  _warn_prf(average, modifier, f\"{metric.capitalize()} is\", len(result))\n",
            "/usr/local/lib/python3.11/dist-packages/sklearn/metrics/_classification.py:1565: UndefinedMetricWarning: Precision is ill-defined and being set to 0.0 in labels with no predicted samples. Use `zero_division` parameter to control this behavior.\n",
            "  _warn_prf(average, modifier, f\"{metric.capitalize()} is\", len(result))\n",
            "/usr/local/lib/python3.11/dist-packages/sklearn/metrics/_classification.py:1565: UndefinedMetricWarning: Precision is ill-defined and being set to 0.0 in labels with no predicted samples. Use `zero_division` parameter to control this behavior.\n",
            "  _warn_prf(average, modifier, f\"{metric.capitalize()} is\", len(result))\n"
          ]
        }
      ]
    },
    {
      "cell_type": "markdown",
      "source": [
        "> *Testando outros modelos mais sensiveis a esses tipo de distribuição*"
      ],
      "metadata": {
        "id": "4rJWFP5UEurF"
      }
    },
    {
      "cell_type": "markdown",
      "source": [
        "> *Balanceamento das classes para utilizar com o modelo `Regressão Logística`*"
      ],
      "metadata": {
        "id": "uybD5WcJII3V"
      }
    },
    {
      "cell_type": "code",
      "source": [
        "from pyspark.sql.functions import col\n",
        "from pyspark.sql import DataFrame\n",
        "from pyspark.ml.classification import LogisticRegression\n",
        "\n",
        "# Separa por classe\n",
        "class_0 = train.filter(col(\"engagement_level\") == 0)\n",
        "class_1 = train.filter(col(\"engagement_level\") == 1)\n",
        "class_2 = train.filter(col(\"engagement_level\") == 2)\n",
        "\n",
        "# Oversample da classe 0\n",
        "factor = int(class_2.count() / class_0.count())\n",
        "class_0_oversampled = class_0.unionAll(class_0).limit(class_0.count() * factor)\n",
        "\n",
        "# Novo train balanceado\n",
        "train_balanced = class_0_oversampled.unionAll(class_1).unionAll(class_2)\n"
      ],
      "metadata": {
        "id": "1l40B2cRG2GE"
      },
      "execution_count": 213,
      "outputs": []
    },
    {
      "cell_type": "code",
      "source": [
        "# Indexador para variável categórica\n",
        "indexer = StringIndexer(inputCol=\"preferred_offer_type\", outputCol=\"preferred_offer_type_index\", handleInvalid=\"keep\")\n",
        "\n",
        "# 🔗 Vetorização das features\n",
        "assembler = VectorAssembler(\n",
        "    inputCols=features + [\"preferred_offer_type_index\"],\n",
        "    outputCol=\"features\",\n",
        "    handleInvalid=\"keep\"\n",
        ")\n",
        "\n",
        "#  Modelo de Regressão Logística Multiclasse\n",
        "lr = LogisticRegression(\n",
        "    labelCol=\"engagement_level\",\n",
        "    featuresCol=\"features\",\n",
        "    maxIter=100,\n",
        "    regParam=0.01,\n",
        "    elasticNetParam=0.0,  # regressão L2 pura\n",
        "    family=\"multinomial\"\n",
        ")\n",
        "\n",
        "#  Pipeline\n",
        "pipeline = Pipeline(stages=[indexer, assembler, lr])\n",
        "\n",
        "#  Treinamento com dados balanceados\n",
        "model = pipeline.fit(train_balanced)\n",
        "\n",
        "#  Previsões no conjunto de teste original\n",
        "predictions = model.transform(test)\n",
        "\n",
        "#  Avaliação\n",
        "evaluator_acc = MulticlassClassificationEvaluator(\n",
        "    labelCol=\"engagement_level\", predictionCol=\"prediction\", metricName=\"accuracy\"\n",
        ")\n",
        "evaluator_f1 = MulticlassClassificationEvaluator(\n",
        "    labelCol=\"engagement_level\", predictionCol=\"prediction\", metricName=\"f1\"\n",
        ")\n",
        "\n",
        "accuracy = evaluator_acc.evaluate(predictions)\n",
        "f1_score = evaluator_f1.evaluate(predictions)\n",
        "\n",
        "print(f\" Logistic Regression (balanceado) - Acurácia: {accuracy:.4f}\")\n",
        "print(f\" Logistic Regression (balanceado) - F1-score: {f1_score:.4f}\")"
      ],
      "metadata": {
        "colab": {
          "base_uri": "https://localhost:8080/"
        },
        "id": "3ft0O98IHB1-",
        "outputId": "2bd83bde-a571-4194-d35c-c42de640ef7e"
      },
      "execution_count": 208,
      "outputs": [
        {
          "output_type": "stream",
          "name": "stdout",
          "text": [
            " Logistic Regression (balanceado) - Acurácia: 0.9892\n",
            " Logistic Regression (balanceado) - F1-score: 0.9844\n"
          ]
        }
      ]
    },
    {
      "cell_type": "markdown",
      "source": [
        "> com o balanceamento o modelo passou a reconhecer a classe 0, que antes era completamente ignorada"
      ],
      "metadata": {
        "id": "l3DK1yvUItxG"
      }
    },
    {
      "cell_type": "code",
      "source": [
        "predictions.groupBy(\"engagement_level\", \"prediction\").count().orderBy(\"engagement_level\", \"prediction\").show()\n"
      ],
      "metadata": {
        "colab": {
          "base_uri": "https://localhost:8080/"
        },
        "id": "nYa8KTw_HOKC",
        "outputId": "d2619668-df2d-4050-915b-e9ceabf33864"
      },
      "execution_count": 211,
      "outputs": [
        {
          "output_type": "stream",
          "name": "stdout",
          "text": [
            "+----------------+----------+-----+\n",
            "|engagement_level|prediction|count|\n",
            "+----------------+----------+-----+\n",
            "|               0|       0.0|    2|\n",
            "|               0|       1.0|   20|\n",
            "|               0|       2.0|   16|\n",
            "|               1|       1.0|  811|\n",
            "|               2|       2.0| 2480|\n",
            "+----------------+----------+-----+\n",
            "\n"
          ]
        }
      ]
    },
    {
      "cell_type": "markdown",
      "source": [
        "# 3. Interpretar os resultados pensando no negócio"
      ],
      "metadata": {
        "id": "lld_8tXMI0lT"
      }
    },
    {
      "cell_type": "markdown",
      "source": [
        "Prever o nível de engajamento de um cliente com cupons, antes de enviá-los.\n",
        "Com isso, conseguimos:\n",
        "\n",
        "- Evitar enviar cupons para quem não responde (classe 0).\n",
        "  - nesse caso eu estava tentando pensar em alternativas pra conseguir chamar os clientes mesmo que seja enviando um informativo, porem não obtive sucesso por enquanto\n",
        "\n",
        "- Ajustar canal e tipo de oferta para quem tem resposta moderada (classe 1).\n",
        "\n",
        "- Investir mais nos clientes altamente engajados (classe 2)."
      ],
      "metadata": {
        "id": "Dv6-8NbcJEdo"
      }
    }
  ]
}